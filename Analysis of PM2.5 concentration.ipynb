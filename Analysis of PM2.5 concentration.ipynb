{
 "cells": [
  {
   "cell_type": "markdown",
   "metadata": {},
   "source": [
    "### The intention of this project is to try and classify the PM2.5 concentration in air into two categories namely - 1) Hazardous and 2) Non hazardous by making use of some meteorological factors and some pollutatnts present in the air. Some standard machine learning algorithms will be deployed to tackle this problem."
   ]
  },
  {
   "cell_type": "code",
   "execution_count": null,
   "metadata": {},
   "outputs": [],
   "source": [
    "import numpy as np\n",
    "import pandas as pd\n",
    "import matplotlib.pyplot as plt\n",
    "import seaborn as sns"
   ]
  },
  {
   "cell_type": "code",
   "execution_count": 3,
   "metadata": {},
   "outputs": [
    {
     "data": {
      "text/html": [
       "<div>\n",
       "<style scoped>\n",
       "    .dataframe tbody tr th:only-of-type {\n",
       "        vertical-align: middle;\n",
       "    }\n",
       "\n",
       "    .dataframe tbody tr th {\n",
       "        vertical-align: top;\n",
       "    }\n",
       "\n",
       "    .dataframe thead th {\n",
       "        text-align: right;\n",
       "    }\n",
       "</style>\n",
       "<table border=\"1\" class=\"dataframe\">\n",
       "  <thead>\n",
       "    <tr style=\"text-align: right;\">\n",
       "      <th></th>\n",
       "      <th>MONTH</th>\n",
       "      <th>HOUR</th>\n",
       "      <th>PM</th>\n",
       "      <th>NO2</th>\n",
       "      <th>CO</th>\n",
       "      <th>TEMPERATURE</th>\n",
       "      <th>WIND SPEED</th>\n",
       "      <th>HUMIDITY</th>\n",
       "    </tr>\n",
       "  </thead>\n",
       "  <tbody>\n",
       "    <tr>\n",
       "      <th>0</th>\n",
       "      <td>JAN</td>\n",
       "      <td>0</td>\n",
       "      <td>311</td>\n",
       "      <td>138</td>\n",
       "      <td>93</td>\n",
       "      <td>13</td>\n",
       "      <td>4</td>\n",
       "      <td>82</td>\n",
       "    </tr>\n",
       "    <tr>\n",
       "      <th>1</th>\n",
       "      <td>JAN</td>\n",
       "      <td>6</td>\n",
       "      <td>327</td>\n",
       "      <td>154</td>\n",
       "      <td>90</td>\n",
       "      <td>10</td>\n",
       "      <td>9</td>\n",
       "      <td>87</td>\n",
       "    </tr>\n",
       "    <tr>\n",
       "      <th>2</th>\n",
       "      <td>JAN</td>\n",
       "      <td>9</td>\n",
       "      <td>331</td>\n",
       "      <td>153</td>\n",
       "      <td>69</td>\n",
       "      <td>15</td>\n",
       "      <td>13</td>\n",
       "      <td>72</td>\n",
       "    </tr>\n",
       "    <tr>\n",
       "      <th>3</th>\n",
       "      <td>JAN</td>\n",
       "      <td>16</td>\n",
       "      <td>334</td>\n",
       "      <td>148</td>\n",
       "      <td>45</td>\n",
       "      <td>23</td>\n",
       "      <td>13</td>\n",
       "      <td>47</td>\n",
       "    </tr>\n",
       "    <tr>\n",
       "      <th>4</th>\n",
       "      <td>JAN</td>\n",
       "      <td>20</td>\n",
       "      <td>337</td>\n",
       "      <td>144</td>\n",
       "      <td>61</td>\n",
       "      <td>18</td>\n",
       "      <td>2</td>\n",
       "      <td>59</td>\n",
       "    </tr>\n",
       "  </tbody>\n",
       "</table>\n",
       "</div>"
      ],
      "text/plain": [
       "  MONTH  HOUR   PM  NO2  CO  TEMPERATURE  WIND SPEED  HUMIDITY\n",
       "0   JAN     0  311  138  93           13           4        82\n",
       "1   JAN     6  327  154  90           10           9        87\n",
       "2   JAN     9  331  153  69           15          13        72\n",
       "3   JAN    16  334  148  45           23          13        47\n",
       "4   JAN    20  337  144  61           18           2        59"
      ]
     },
     "execution_count": 3,
     "metadata": {},
     "output_type": "execute_result"
    }
   ],
   "source": [
    "data = pd.read_excel(r\"D:\\DATA_PROJECT.xlsx\",usecols = 'D:L')\n",
    "data = data.drop(['PM10'], axis = 1)\n",
    "data.head()"
   ]
  },
  {
   "cell_type": "code",
   "execution_count": 4,
   "metadata": {},
   "outputs": [
    {
     "data": {
      "text/html": [
       "<div>\n",
       "<style scoped>\n",
       "    .dataframe tbody tr th:only-of-type {\n",
       "        vertical-align: middle;\n",
       "    }\n",
       "\n",
       "    .dataframe tbody tr th {\n",
       "        vertical-align: top;\n",
       "    }\n",
       "\n",
       "    .dataframe thead th {\n",
       "        text-align: right;\n",
       "    }\n",
       "</style>\n",
       "<table border=\"1\" class=\"dataframe\">\n",
       "  <thead>\n",
       "    <tr style=\"text-align: right;\">\n",
       "      <th></th>\n",
       "      <th>MONTH</th>\n",
       "      <th>HOUR</th>\n",
       "      <th>PM</th>\n",
       "      <th>NO2</th>\n",
       "      <th>CO</th>\n",
       "      <th>TEMPERATURE</th>\n",
       "      <th>WIND SPEED</th>\n",
       "      <th>HUMIDITY</th>\n",
       "    </tr>\n",
       "  </thead>\n",
       "  <tbody>\n",
       "    <tr>\n",
       "      <th>73</th>\n",
       "      <td>JAN</td>\n",
       "      <td>6</td>\n",
       "      <td>386</td>\n",
       "      <td>150</td>\n",
       "      <td>105</td>\n",
       "      <td>2</td>\n",
       "      <td>2</td>\n",
       "      <td>82</td>\n",
       "    </tr>\n",
       "    <tr>\n",
       "      <th>1587</th>\n",
       "      <td>DEC</td>\n",
       "      <td>0</td>\n",
       "      <td>295</td>\n",
       "      <td>69</td>\n",
       "      <td>182</td>\n",
       "      <td>140</td>\n",
       "      <td>0</td>\n",
       "      <td>88</td>\n",
       "    </tr>\n",
       "  </tbody>\n",
       "</table>\n",
       "</div>"
      ],
      "text/plain": [
       "     MONTH  HOUR   PM  NO2   CO  TEMPERATURE  WIND SPEED  HUMIDITY\n",
       "73     JAN     6  386  150  105            2           2        82\n",
       "1587   DEC     0  295   69  182          140           0        88"
      ]
     },
     "execution_count": 4,
     "metadata": {},
     "output_type": "execute_result"
    }
   ],
   "source": [
    "## Detection of outlier in the temperature column:\n",
    "min_threshold = 9\n",
    "max_threshold = 42\n",
    "data[(data['TEMPERATURE']>= max_threshold) | (data['TEMPERATURE'] < min_threshold)]"
   ]
  },
  {
   "cell_type": "markdown",
   "metadata": {},
   "source": [
    "#####  These two values are clearly outliers since temperature in Kolkata has never dipped below 9 degree Celsius in the past and 140 degree Celsius in Winter is clearly an error. Hence these values will be removed.\n",
    " "
   ]
  },
  {
   "cell_type": "code",
   "execution_count": 5,
   "metadata": {},
   "outputs": [
    {
     "data": {
      "text/plain": [
       "(1627, 8)"
      ]
     },
     "execution_count": 5,
     "metadata": {},
     "output_type": "execute_result"
    }
   ],
   "source": [
    "data = data[(data['TEMPERATURE']<max_threshold) & (data['TEMPERATURE']>= min_threshold)]\n",
    "data.shape"
   ]
  },
  {
   "cell_type": "code",
   "execution_count": 6,
   "metadata": {},
   "outputs": [
    {
     "data": {
      "text/html": [
       "<div>\n",
       "<style scoped>\n",
       "    .dataframe tbody tr th:only-of-type {\n",
       "        vertical-align: middle;\n",
       "    }\n",
       "\n",
       "    .dataframe tbody tr th {\n",
       "        vertical-align: top;\n",
       "    }\n",
       "\n",
       "    .dataframe thead th {\n",
       "        text-align: right;\n",
       "    }\n",
       "</style>\n",
       "<table border=\"1\" class=\"dataframe\">\n",
       "  <thead>\n",
       "    <tr style=\"text-align: right;\">\n",
       "      <th></th>\n",
       "      <th>MONTH</th>\n",
       "      <th>HOUR</th>\n",
       "      <th>PM</th>\n",
       "      <th>NO2</th>\n",
       "      <th>CO</th>\n",
       "      <th>TEMPERATURE</th>\n",
       "      <th>WIND SPEED</th>\n",
       "      <th>HUMIDITY</th>\n",
       "    </tr>\n",
       "  </thead>\n",
       "  <tbody>\n",
       "  </tbody>\n",
       "</table>\n",
       "</div>"
      ],
      "text/plain": [
       "Empty DataFrame\n",
       "Columns: [MONTH, HOUR, PM, NO2, CO, TEMPERATURE, WIND SPEED, HUMIDITY]\n",
       "Index: []"
      ]
     },
     "execution_count": 6,
     "metadata": {},
     "output_type": "execute_result"
    }
   ],
   "source": [
    "## Value of humidity should range between 0-100 (in percentage) and any value beyond that will be an outlier:\n",
    "data[(data['HUMIDITY']>100) | (data['HUMIDITY']<0)]\n"
   ]
  },
  {
   "cell_type": "code",
   "execution_count": 7,
   "metadata": {},
   "outputs": [
    {
     "data": {
      "text/html": [
       "<div>\n",
       "<style scoped>\n",
       "    .dataframe tbody tr th:only-of-type {\n",
       "        vertical-align: middle;\n",
       "    }\n",
       "\n",
       "    .dataframe tbody tr th {\n",
       "        vertical-align: top;\n",
       "    }\n",
       "\n",
       "    .dataframe thead th {\n",
       "        text-align: right;\n",
       "    }\n",
       "</style>\n",
       "<table border=\"1\" class=\"dataframe\">\n",
       "  <thead>\n",
       "    <tr style=\"text-align: right;\">\n",
       "      <th></th>\n",
       "      <th>MONTH</th>\n",
       "      <th>HOUR</th>\n",
       "      <th>PM</th>\n",
       "      <th>NO2</th>\n",
       "      <th>CO</th>\n",
       "      <th>TEMPERATURE</th>\n",
       "      <th>WIND SPEED</th>\n",
       "      <th>HUMIDITY</th>\n",
       "    </tr>\n",
       "  </thead>\n",
       "  <tbody>\n",
       "  </tbody>\n",
       "</table>\n",
       "</div>"
      ],
      "text/plain": [
       "Empty DataFrame\n",
       "Columns: [MONTH, HOUR, PM, NO2, CO, TEMPERATURE, WIND SPEED, HUMIDITY]\n",
       "Index: []"
      ]
     },
     "execution_count": 7,
     "metadata": {},
     "output_type": "execute_result"
    }
   ],
   "source": [
    "## Value of wind speed (km/hr) should not be less than zero:\n",
    "data[(data['WIND SPEED']<0)]"
   ]
  },
  {
   "cell_type": "code",
   "execution_count": 8,
   "metadata": {},
   "outputs": [
    {
     "data": {
      "text/html": [
       "<div>\n",
       "<style scoped>\n",
       "    .dataframe tbody tr th:only-of-type {\n",
       "        vertical-align: middle;\n",
       "    }\n",
       "\n",
       "    .dataframe tbody tr th {\n",
       "        vertical-align: top;\n",
       "    }\n",
       "\n",
       "    .dataframe thead th {\n",
       "        text-align: right;\n",
       "    }\n",
       "</style>\n",
       "<table border=\"1\" class=\"dataframe\">\n",
       "  <thead>\n",
       "    <tr style=\"text-align: right;\">\n",
       "      <th></th>\n",
       "      <th>MONTH</th>\n",
       "      <th>HOUR</th>\n",
       "      <th>PM</th>\n",
       "      <th>NO2</th>\n",
       "      <th>CO</th>\n",
       "      <th>TEMPERATURE</th>\n",
       "      <th>WIND SPEED</th>\n",
       "      <th>HUMIDITY</th>\n",
       "    </tr>\n",
       "  </thead>\n",
       "  <tbody>\n",
       "    <tr>\n",
       "      <th>69</th>\n",
       "      <td>JAN</td>\n",
       "      <td>16</td>\n",
       "      <td>390</td>\n",
       "      <td>162</td>\n",
       "      <td>64</td>\n",
       "      <td>24</td>\n",
       "      <td>13</td>\n",
       "      <td>44</td>\n",
       "    </tr>\n",
       "    <tr>\n",
       "      <th>70</th>\n",
       "      <td>JAN</td>\n",
       "      <td>20</td>\n",
       "      <td>397</td>\n",
       "      <td>161</td>\n",
       "      <td>74</td>\n",
       "      <td>16</td>\n",
       "      <td>4</td>\n",
       "      <td>77</td>\n",
       "    </tr>\n",
       "    <tr>\n",
       "      <th>71</th>\n",
       "      <td>JAN</td>\n",
       "      <td>21</td>\n",
       "      <td>403</td>\n",
       "      <td>160</td>\n",
       "      <td>81</td>\n",
       "      <td>16</td>\n",
       "      <td>2</td>\n",
       "      <td>77</td>\n",
       "    </tr>\n",
       "    <tr>\n",
       "      <th>72</th>\n",
       "      <td>JAN</td>\n",
       "      <td>0</td>\n",
       "      <td>406</td>\n",
       "      <td>155</td>\n",
       "      <td>106</td>\n",
       "      <td>15</td>\n",
       "      <td>2</td>\n",
       "      <td>82</td>\n",
       "    </tr>\n",
       "    <tr>\n",
       "      <th>81</th>\n",
       "      <td>JAN</td>\n",
       "      <td>16</td>\n",
       "      <td>390</td>\n",
       "      <td>158</td>\n",
       "      <td>79</td>\n",
       "      <td>24</td>\n",
       "      <td>6</td>\n",
       "      <td>50</td>\n",
       "    </tr>\n",
       "    <tr>\n",
       "      <th>82</th>\n",
       "      <td>JAN</td>\n",
       "      <td>20</td>\n",
       "      <td>406</td>\n",
       "      <td>166</td>\n",
       "      <td>85</td>\n",
       "      <td>20</td>\n",
       "      <td>2</td>\n",
       "      <td>64</td>\n",
       "    </tr>\n",
       "    <tr>\n",
       "      <th>83</th>\n",
       "      <td>JAN</td>\n",
       "      <td>21</td>\n",
       "      <td>408</td>\n",
       "      <td>165</td>\n",
       "      <td>92</td>\n",
       "      <td>19</td>\n",
       "      <td>2</td>\n",
       "      <td>68</td>\n",
       "    </tr>\n",
       "    <tr>\n",
       "      <th>84</th>\n",
       "      <td>JAN</td>\n",
       "      <td>0</td>\n",
       "      <td>411</td>\n",
       "      <td>165</td>\n",
       "      <td>118</td>\n",
       "      <td>17</td>\n",
       "      <td>2</td>\n",
       "      <td>82</td>\n",
       "    </tr>\n",
       "    <tr>\n",
       "      <th>85</th>\n",
       "      <td>JAN</td>\n",
       "      <td>6</td>\n",
       "      <td>404</td>\n",
       "      <td>175</td>\n",
       "      <td>116</td>\n",
       "      <td>14</td>\n",
       "      <td>11</td>\n",
       "      <td>82</td>\n",
       "    </tr>\n",
       "    <tr>\n",
       "      <th>86</th>\n",
       "      <td>JAN</td>\n",
       "      <td>9</td>\n",
       "      <td>401</td>\n",
       "      <td>172</td>\n",
       "      <td>94</td>\n",
       "      <td>18</td>\n",
       "      <td>11</td>\n",
       "      <td>64</td>\n",
       "    </tr>\n",
       "    <tr>\n",
       "      <th>87</th>\n",
       "      <td>JAN</td>\n",
       "      <td>16</td>\n",
       "      <td>387</td>\n",
       "      <td>156</td>\n",
       "      <td>48</td>\n",
       "      <td>23</td>\n",
       "      <td>11</td>\n",
       "      <td>41</td>\n",
       "    </tr>\n",
       "    <tr>\n",
       "      <th>129</th>\n",
       "      <td>JAN</td>\n",
       "      <td>16</td>\n",
       "      <td>401</td>\n",
       "      <td>195</td>\n",
       "      <td>89</td>\n",
       "      <td>27</td>\n",
       "      <td>9</td>\n",
       "      <td>39</td>\n",
       "    </tr>\n",
       "    <tr>\n",
       "      <th>130</th>\n",
       "      <td>JAN</td>\n",
       "      <td>20</td>\n",
       "      <td>409</td>\n",
       "      <td>211</td>\n",
       "      <td>82</td>\n",
       "      <td>20</td>\n",
       "      <td>2</td>\n",
       "      <td>68</td>\n",
       "    </tr>\n",
       "    <tr>\n",
       "      <th>131</th>\n",
       "      <td>JAN</td>\n",
       "      <td>21</td>\n",
       "      <td>411</td>\n",
       "      <td>213</td>\n",
       "      <td>89</td>\n",
       "      <td>19</td>\n",
       "      <td>2</td>\n",
       "      <td>68</td>\n",
       "    </tr>\n",
       "    <tr>\n",
       "      <th>132</th>\n",
       "      <td>JAN</td>\n",
       "      <td>0</td>\n",
       "      <td>414</td>\n",
       "      <td>216</td>\n",
       "      <td>166</td>\n",
       "      <td>18</td>\n",
       "      <td>2</td>\n",
       "      <td>73</td>\n",
       "    </tr>\n",
       "    <tr>\n",
       "      <th>133</th>\n",
       "      <td>JAN</td>\n",
       "      <td>6</td>\n",
       "      <td>413</td>\n",
       "      <td>216</td>\n",
       "      <td>143</td>\n",
       "      <td>13</td>\n",
       "      <td>2</td>\n",
       "      <td>94</td>\n",
       "    </tr>\n",
       "    <tr>\n",
       "      <th>134</th>\n",
       "      <td>JAN</td>\n",
       "      <td>9</td>\n",
       "      <td>408</td>\n",
       "      <td>218</td>\n",
       "      <td>122</td>\n",
       "      <td>18</td>\n",
       "      <td>7</td>\n",
       "      <td>73</td>\n",
       "    </tr>\n",
       "  </tbody>\n",
       "</table>\n",
       "</div>"
      ],
      "text/plain": [
       "    MONTH  HOUR   PM  NO2   CO  TEMPERATURE  WIND SPEED  HUMIDITY\n",
       "69    JAN    16  390  162   64           24          13        44\n",
       "70    JAN    20  397  161   74           16           4        77\n",
       "71    JAN    21  403  160   81           16           2        77\n",
       "72    JAN     0  406  155  106           15           2        82\n",
       "81    JAN    16  390  158   79           24           6        50\n",
       "82    JAN    20  406  166   85           20           2        64\n",
       "83    JAN    21  408  165   92           19           2        68\n",
       "84    JAN     0  411  165  118           17           2        82\n",
       "85    JAN     6  404  175  116           14          11        82\n",
       "86    JAN     9  401  172   94           18          11        64\n",
       "87    JAN    16  387  156   48           23          11        41\n",
       "129   JAN    16  401  195   89           27           9        39\n",
       "130   JAN    20  409  211   82           20           2        68\n",
       "131   JAN    21  411  213   89           19           2        68\n",
       "132   JAN     0  414  216  166           18           2        73\n",
       "133   JAN     6  413  216  143           13           2        94\n",
       "134   JAN     9  408  218  122           18           7        73"
      ]
     },
     "execution_count": 8,
     "metadata": {},
     "output_type": "execute_result"
    }
   ],
   "source": [
    "data[data['PM'] > data['PM'].quantile(0.99)]\n",
    "## These values of PM 2.5 concentration do not seem to be odd since PM2.5 concentration has soared high during winter in Kolkata, suggests reliable records\n"
   ]
  },
  {
   "cell_type": "code",
   "execution_count": 9,
   "metadata": {},
   "outputs": [
    {
     "data": {
      "text/html": [
       "<div>\n",
       "<style scoped>\n",
       "    .dataframe tbody tr th:only-of-type {\n",
       "        vertical-align: middle;\n",
       "    }\n",
       "\n",
       "    .dataframe tbody tr th {\n",
       "        vertical-align: top;\n",
       "    }\n",
       "\n",
       "    .dataframe thead th {\n",
       "        text-align: right;\n",
       "    }\n",
       "</style>\n",
       "<table border=\"1\" class=\"dataframe\">\n",
       "  <thead>\n",
       "    <tr style=\"text-align: right;\">\n",
       "      <th></th>\n",
       "      <th>MONTH</th>\n",
       "      <th>HOUR</th>\n",
       "      <th>PM</th>\n",
       "      <th>NO2</th>\n",
       "      <th>CO</th>\n",
       "      <th>TEMPERATURE</th>\n",
       "      <th>WIND SPEED</th>\n",
       "      <th>HUMIDITY</th>\n",
       "    </tr>\n",
       "  </thead>\n",
       "  <tbody>\n",
       "    <tr>\n",
       "      <th>105</th>\n",
       "      <td>JAN</td>\n",
       "      <td>16</td>\n",
       "      <td>325</td>\n",
       "      <td>180</td>\n",
       "      <td>68</td>\n",
       "      <td>25</td>\n",
       "      <td>9</td>\n",
       "      <td>39</td>\n",
       "    </tr>\n",
       "    <tr>\n",
       "      <th>106</th>\n",
       "      <td>JAN</td>\n",
       "      <td>20</td>\n",
       "      <td>339</td>\n",
       "      <td>182</td>\n",
       "      <td>68</td>\n",
       "      <td>19</td>\n",
       "      <td>2</td>\n",
       "      <td>68</td>\n",
       "    </tr>\n",
       "    <tr>\n",
       "      <th>107</th>\n",
       "      <td>JAN</td>\n",
       "      <td>21</td>\n",
       "      <td>340</td>\n",
       "      <td>184</td>\n",
       "      <td>152</td>\n",
       "      <td>18</td>\n",
       "      <td>2</td>\n",
       "      <td>73</td>\n",
       "    </tr>\n",
       "    <tr>\n",
       "      <th>108</th>\n",
       "      <td>JAN</td>\n",
       "      <td>0</td>\n",
       "      <td>348</td>\n",
       "      <td>191</td>\n",
       "      <td>168</td>\n",
       "      <td>15</td>\n",
       "      <td>2</td>\n",
       "      <td>82</td>\n",
       "    </tr>\n",
       "    <tr>\n",
       "      <th>109</th>\n",
       "      <td>JAN</td>\n",
       "      <td>6</td>\n",
       "      <td>372</td>\n",
       "      <td>196</td>\n",
       "      <td>135</td>\n",
       "      <td>12</td>\n",
       "      <td>3</td>\n",
       "      <td>88</td>\n",
       "    </tr>\n",
       "    <tr>\n",
       "      <th>110</th>\n",
       "      <td>JAN</td>\n",
       "      <td>9</td>\n",
       "      <td>374</td>\n",
       "      <td>197</td>\n",
       "      <td>106</td>\n",
       "      <td>17</td>\n",
       "      <td>11</td>\n",
       "      <td>77</td>\n",
       "    </tr>\n",
       "    <tr>\n",
       "      <th>111</th>\n",
       "      <td>JAN</td>\n",
       "      <td>16</td>\n",
       "      <td>372</td>\n",
       "      <td>180</td>\n",
       "      <td>57</td>\n",
       "      <td>24</td>\n",
       "      <td>9</td>\n",
       "      <td>38</td>\n",
       "    </tr>\n",
       "    <tr>\n",
       "      <th>112</th>\n",
       "      <td>JAN</td>\n",
       "      <td>20</td>\n",
       "      <td>370</td>\n",
       "      <td>177</td>\n",
       "      <td>55</td>\n",
       "      <td>17</td>\n",
       "      <td>2</td>\n",
       "      <td>63</td>\n",
       "    </tr>\n",
       "    <tr>\n",
       "      <th>127</th>\n",
       "      <td>JAN</td>\n",
       "      <td>6</td>\n",
       "      <td>328</td>\n",
       "      <td>178</td>\n",
       "      <td>153</td>\n",
       "      <td>12</td>\n",
       "      <td>2</td>\n",
       "      <td>94</td>\n",
       "    </tr>\n",
       "    <tr>\n",
       "      <th>128</th>\n",
       "      <td>JAN</td>\n",
       "      <td>9</td>\n",
       "      <td>386</td>\n",
       "      <td>177</td>\n",
       "      <td>139</td>\n",
       "      <td>18</td>\n",
       "      <td>2</td>\n",
       "      <td>77</td>\n",
       "    </tr>\n",
       "    <tr>\n",
       "      <th>129</th>\n",
       "      <td>JAN</td>\n",
       "      <td>16</td>\n",
       "      <td>401</td>\n",
       "      <td>195</td>\n",
       "      <td>89</td>\n",
       "      <td>27</td>\n",
       "      <td>9</td>\n",
       "      <td>39</td>\n",
       "    </tr>\n",
       "    <tr>\n",
       "      <th>130</th>\n",
       "      <td>JAN</td>\n",
       "      <td>20</td>\n",
       "      <td>409</td>\n",
       "      <td>211</td>\n",
       "      <td>82</td>\n",
       "      <td>20</td>\n",
       "      <td>2</td>\n",
       "      <td>68</td>\n",
       "    </tr>\n",
       "    <tr>\n",
       "      <th>131</th>\n",
       "      <td>JAN</td>\n",
       "      <td>21</td>\n",
       "      <td>411</td>\n",
       "      <td>213</td>\n",
       "      <td>89</td>\n",
       "      <td>19</td>\n",
       "      <td>2</td>\n",
       "      <td>68</td>\n",
       "    </tr>\n",
       "    <tr>\n",
       "      <th>132</th>\n",
       "      <td>JAN</td>\n",
       "      <td>0</td>\n",
       "      <td>414</td>\n",
       "      <td>216</td>\n",
       "      <td>166</td>\n",
       "      <td>18</td>\n",
       "      <td>2</td>\n",
       "      <td>73</td>\n",
       "    </tr>\n",
       "    <tr>\n",
       "      <th>133</th>\n",
       "      <td>JAN</td>\n",
       "      <td>6</td>\n",
       "      <td>413</td>\n",
       "      <td>216</td>\n",
       "      <td>143</td>\n",
       "      <td>13</td>\n",
       "      <td>2</td>\n",
       "      <td>94</td>\n",
       "    </tr>\n",
       "    <tr>\n",
       "      <th>134</th>\n",
       "      <td>JAN</td>\n",
       "      <td>9</td>\n",
       "      <td>408</td>\n",
       "      <td>218</td>\n",
       "      <td>122</td>\n",
       "      <td>18</td>\n",
       "      <td>7</td>\n",
       "      <td>73</td>\n",
       "    </tr>\n",
       "    <tr>\n",
       "      <th>135</th>\n",
       "      <td>JAN</td>\n",
       "      <td>16</td>\n",
       "      <td>385</td>\n",
       "      <td>189</td>\n",
       "      <td>60</td>\n",
       "      <td>28</td>\n",
       "      <td>7</td>\n",
       "      <td>37</td>\n",
       "    </tr>\n",
       "  </tbody>\n",
       "</table>\n",
       "</div>"
      ],
      "text/plain": [
       "    MONTH  HOUR   PM  NO2   CO  TEMPERATURE  WIND SPEED  HUMIDITY\n",
       "105   JAN    16  325  180   68           25           9        39\n",
       "106   JAN    20  339  182   68           19           2        68\n",
       "107   JAN    21  340  184  152           18           2        73\n",
       "108   JAN     0  348  191  168           15           2        82\n",
       "109   JAN     6  372  196  135           12           3        88\n",
       "110   JAN     9  374  197  106           17          11        77\n",
       "111   JAN    16  372  180   57           24           9        38\n",
       "112   JAN    20  370  177   55           17           2        63\n",
       "127   JAN     6  328  178  153           12           2        94\n",
       "128   JAN     9  386  177  139           18           2        77\n",
       "129   JAN    16  401  195   89           27           9        39\n",
       "130   JAN    20  409  211   82           20           2        68\n",
       "131   JAN    21  411  213   89           19           2        68\n",
       "132   JAN     0  414  216  166           18           2        73\n",
       "133   JAN     6  413  216  143           13           2        94\n",
       "134   JAN     9  408  218  122           18           7        73\n",
       "135   JAN    16  385  189   60           28           7        37"
      ]
     },
     "execution_count": 9,
     "metadata": {},
     "output_type": "execute_result"
    }
   ],
   "source": [
    "data[data['NO2'] > data['NO2'].quantile(0.99)]\n",
    "## Again, non of these values seem to be unreasonably high and hence will not be removed."
   ]
  },
  {
   "cell_type": "code",
   "execution_count": 10,
   "metadata": {},
   "outputs": [
    {
     "data": {
      "text/html": [
       "<div>\n",
       "<style scoped>\n",
       "    .dataframe tbody tr th:only-of-type {\n",
       "        vertical-align: middle;\n",
       "    }\n",
       "\n",
       "    .dataframe tbody tr th {\n",
       "        vertical-align: top;\n",
       "    }\n",
       "\n",
       "    .dataframe thead th {\n",
       "        text-align: right;\n",
       "    }\n",
       "</style>\n",
       "<table border=\"1\" class=\"dataframe\">\n",
       "  <thead>\n",
       "    <tr style=\"text-align: right;\">\n",
       "      <th></th>\n",
       "      <th>MONTH</th>\n",
       "      <th>HOUR</th>\n",
       "      <th>PM</th>\n",
       "      <th>NO2</th>\n",
       "      <th>CO</th>\n",
       "      <th>TEMPERATURE</th>\n",
       "      <th>WIND SPEED</th>\n",
       "      <th>HUMIDITY</th>\n",
       "    </tr>\n",
       "  </thead>\n",
       "  <tbody>\n",
       "    <tr>\n",
       "      <th>66</th>\n",
       "      <td>JAN</td>\n",
       "      <td>0</td>\n",
       "      <td>341</td>\n",
       "      <td>155</td>\n",
       "      <td>155</td>\n",
       "      <td>13</td>\n",
       "      <td>2</td>\n",
       "      <td>88</td>\n",
       "    </tr>\n",
       "    <tr>\n",
       "      <th>78</th>\n",
       "      <td>JAN</td>\n",
       "      <td>0</td>\n",
       "      <td>344</td>\n",
       "      <td>138</td>\n",
       "      <td>159</td>\n",
       "      <td>15</td>\n",
       "      <td>2</td>\n",
       "      <td>82</td>\n",
       "    </tr>\n",
       "    <tr>\n",
       "      <th>107</th>\n",
       "      <td>JAN</td>\n",
       "      <td>21</td>\n",
       "      <td>340</td>\n",
       "      <td>184</td>\n",
       "      <td>152</td>\n",
       "      <td>18</td>\n",
       "      <td>2</td>\n",
       "      <td>73</td>\n",
       "    </tr>\n",
       "    <tr>\n",
       "      <th>108</th>\n",
       "      <td>JAN</td>\n",
       "      <td>0</td>\n",
       "      <td>348</td>\n",
       "      <td>191</td>\n",
       "      <td>168</td>\n",
       "      <td>15</td>\n",
       "      <td>2</td>\n",
       "      <td>82</td>\n",
       "    </tr>\n",
       "    <tr>\n",
       "      <th>126</th>\n",
       "      <td>JAN</td>\n",
       "      <td>0</td>\n",
       "      <td>373</td>\n",
       "      <td>172</td>\n",
       "      <td>172</td>\n",
       "      <td>15</td>\n",
       "      <td>2</td>\n",
       "      <td>82</td>\n",
       "    </tr>\n",
       "    <tr>\n",
       "      <th>127</th>\n",
       "      <td>JAN</td>\n",
       "      <td>6</td>\n",
       "      <td>328</td>\n",
       "      <td>178</td>\n",
       "      <td>153</td>\n",
       "      <td>12</td>\n",
       "      <td>2</td>\n",
       "      <td>94</td>\n",
       "    </tr>\n",
       "    <tr>\n",
       "      <th>132</th>\n",
       "      <td>JAN</td>\n",
       "      <td>0</td>\n",
       "      <td>414</td>\n",
       "      <td>216</td>\n",
       "      <td>166</td>\n",
       "      <td>18</td>\n",
       "      <td>2</td>\n",
       "      <td>73</td>\n",
       "    </tr>\n",
       "    <tr>\n",
       "      <th>1343</th>\n",
       "      <td>NOV</td>\n",
       "      <td>0</td>\n",
       "      <td>57</td>\n",
       "      <td>56</td>\n",
       "      <td>158</td>\n",
       "      <td>23</td>\n",
       "      <td>2</td>\n",
       "      <td>94</td>\n",
       "    </tr>\n",
       "    <tr>\n",
       "      <th>1436</th>\n",
       "      <td>NOV</td>\n",
       "      <td>21</td>\n",
       "      <td>185</td>\n",
       "      <td>108</td>\n",
       "      <td>154</td>\n",
       "      <td>23</td>\n",
       "      <td>0</td>\n",
       "      <td>83</td>\n",
       "    </tr>\n",
       "    <tr>\n",
       "      <th>1437</th>\n",
       "      <td>NOV</td>\n",
       "      <td>0</td>\n",
       "      <td>198</td>\n",
       "      <td>114</td>\n",
       "      <td>162</td>\n",
       "      <td>20</td>\n",
       "      <td>0</td>\n",
       "      <td>100</td>\n",
       "    </tr>\n",
       "    <tr>\n",
       "      <th>1585</th>\n",
       "      <td>DEC</td>\n",
       "      <td>20</td>\n",
       "      <td>301</td>\n",
       "      <td>65</td>\n",
       "      <td>161</td>\n",
       "      <td>17</td>\n",
       "      <td>0</td>\n",
       "      <td>82</td>\n",
       "    </tr>\n",
       "    <tr>\n",
       "      <th>1586</th>\n",
       "      <td>DEC</td>\n",
       "      <td>21</td>\n",
       "      <td>298</td>\n",
       "      <td>66</td>\n",
       "      <td>158</td>\n",
       "      <td>16</td>\n",
       "      <td>0</td>\n",
       "      <td>88</td>\n",
       "    </tr>\n",
       "    <tr>\n",
       "      <th>1588</th>\n",
       "      <td>DEC</td>\n",
       "      <td>6</td>\n",
       "      <td>298</td>\n",
       "      <td>75</td>\n",
       "      <td>157</td>\n",
       "      <td>12</td>\n",
       "      <td>0</td>\n",
       "      <td>94</td>\n",
       "    </tr>\n",
       "    <tr>\n",
       "      <th>1593</th>\n",
       "      <td>DEC</td>\n",
       "      <td>0</td>\n",
       "      <td>275</td>\n",
       "      <td>85</td>\n",
       "      <td>179</td>\n",
       "      <td>16</td>\n",
       "      <td>0</td>\n",
       "      <td>82</td>\n",
       "    </tr>\n",
       "    <tr>\n",
       "      <th>1616</th>\n",
       "      <td>DEC</td>\n",
       "      <td>21</td>\n",
       "      <td>228</td>\n",
       "      <td>59</td>\n",
       "      <td>159</td>\n",
       "      <td>16</td>\n",
       "      <td>6</td>\n",
       "      <td>77</td>\n",
       "    </tr>\n",
       "    <tr>\n",
       "      <th>1619</th>\n",
       "      <td>DEC</td>\n",
       "      <td>9</td>\n",
       "      <td>232</td>\n",
       "      <td>58</td>\n",
       "      <td>157</td>\n",
       "      <td>13</td>\n",
       "      <td>9</td>\n",
       "      <td>82</td>\n",
       "    </tr>\n",
       "    <tr>\n",
       "      <th>1621</th>\n",
       "      <td>DEC</td>\n",
       "      <td>20</td>\n",
       "      <td>271</td>\n",
       "      <td>63</td>\n",
       "      <td>182</td>\n",
       "      <td>16</td>\n",
       "      <td>0</td>\n",
       "      <td>82</td>\n",
       "    </tr>\n",
       "  </tbody>\n",
       "</table>\n",
       "</div>"
      ],
      "text/plain": [
       "     MONTH  HOUR   PM  NO2   CO  TEMPERATURE  WIND SPEED  HUMIDITY\n",
       "66     JAN     0  341  155  155           13           2        88\n",
       "78     JAN     0  344  138  159           15           2        82\n",
       "107    JAN    21  340  184  152           18           2        73\n",
       "108    JAN     0  348  191  168           15           2        82\n",
       "126    JAN     0  373  172  172           15           2        82\n",
       "127    JAN     6  328  178  153           12           2        94\n",
       "132    JAN     0  414  216  166           18           2        73\n",
       "1343   NOV     0   57   56  158           23           2        94\n",
       "1436   NOV    21  185  108  154           23           0        83\n",
       "1437   NOV     0  198  114  162           20           0       100\n",
       "1585   DEC    20  301   65  161           17           0        82\n",
       "1586   DEC    21  298   66  158           16           0        88\n",
       "1588   DEC     6  298   75  157           12           0        94\n",
       "1593   DEC     0  275   85  179           16           0        82\n",
       "1616   DEC    21  228   59  159           16           6        77\n",
       "1619   DEC     9  232   58  157           13           9        82\n",
       "1621   DEC    20  271   63  182           16           0        82"
      ]
     },
     "execution_count": 10,
     "metadata": {},
     "output_type": "execute_result"
    }
   ],
   "source": [
    "data[data['CO'] > data['CO'].quantile(0.99)]"
   ]
  },
  {
   "cell_type": "code",
   "execution_count": 11,
   "metadata": {},
   "outputs": [
    {
     "data": {
      "text/html": [
       "<div>\n",
       "<style scoped>\n",
       "    .dataframe tbody tr th:only-of-type {\n",
       "        vertical-align: middle;\n",
       "    }\n",
       "\n",
       "    .dataframe tbody tr th {\n",
       "        vertical-align: top;\n",
       "    }\n",
       "\n",
       "    .dataframe thead th {\n",
       "        text-align: right;\n",
       "    }\n",
       "</style>\n",
       "<table border=\"1\" class=\"dataframe\">\n",
       "  <thead>\n",
       "    <tr style=\"text-align: right;\">\n",
       "      <th></th>\n",
       "      <th>MONTH</th>\n",
       "      <th>HOUR</th>\n",
       "      <th>PM</th>\n",
       "      <th>NO2</th>\n",
       "      <th>CO</th>\n",
       "      <th>TEMPERATURE</th>\n",
       "      <th>WIND SPEED</th>\n",
       "      <th>HUMIDITY</th>\n",
       "    </tr>\n",
       "  </thead>\n",
       "  <tbody>\n",
       "  </tbody>\n",
       "</table>\n",
       "</div>"
      ],
      "text/plain": [
       "Empty DataFrame\n",
       "Columns: [MONTH, HOUR, PM, NO2, CO, TEMPERATURE, WIND SPEED, HUMIDITY]\n",
       "Index: []"
      ]
     },
     "execution_count": 11,
     "metadata": {},
     "output_type": "execute_result"
    }
   ],
   "source": [
    "### Lastly we will check and see if any value in the columns of PM2.5, CO and NO2 is negative since that is below the acceptable range.\n",
    "data[data['PM'] < 0 ]"
   ]
  },
  {
   "cell_type": "code",
   "execution_count": 12,
   "metadata": {},
   "outputs": [
    {
     "data": {
      "text/html": [
       "<div>\n",
       "<style scoped>\n",
       "    .dataframe tbody tr th:only-of-type {\n",
       "        vertical-align: middle;\n",
       "    }\n",
       "\n",
       "    .dataframe tbody tr th {\n",
       "        vertical-align: top;\n",
       "    }\n",
       "\n",
       "    .dataframe thead th {\n",
       "        text-align: right;\n",
       "    }\n",
       "</style>\n",
       "<table border=\"1\" class=\"dataframe\">\n",
       "  <thead>\n",
       "    <tr style=\"text-align: right;\">\n",
       "      <th></th>\n",
       "      <th>MONTH</th>\n",
       "      <th>HOUR</th>\n",
       "      <th>PM</th>\n",
       "      <th>NO2</th>\n",
       "      <th>CO</th>\n",
       "      <th>TEMPERATURE</th>\n",
       "      <th>WIND SPEED</th>\n",
       "      <th>HUMIDITY</th>\n",
       "    </tr>\n",
       "  </thead>\n",
       "  <tbody>\n",
       "  </tbody>\n",
       "</table>\n",
       "</div>"
      ],
      "text/plain": [
       "Empty DataFrame\n",
       "Columns: [MONTH, HOUR, PM, NO2, CO, TEMPERATURE, WIND SPEED, HUMIDITY]\n",
       "Index: []"
      ]
     },
     "execution_count": 12,
     "metadata": {},
     "output_type": "execute_result"
    }
   ],
   "source": [
    "data[data['CO'] < 0 ]"
   ]
  },
  {
   "cell_type": "code",
   "execution_count": 13,
   "metadata": {},
   "outputs": [
    {
     "data": {
      "text/html": [
       "<div>\n",
       "<style scoped>\n",
       "    .dataframe tbody tr th:only-of-type {\n",
       "        vertical-align: middle;\n",
       "    }\n",
       "\n",
       "    .dataframe tbody tr th {\n",
       "        vertical-align: top;\n",
       "    }\n",
       "\n",
       "    .dataframe thead th {\n",
       "        text-align: right;\n",
       "    }\n",
       "</style>\n",
       "<table border=\"1\" class=\"dataframe\">\n",
       "  <thead>\n",
       "    <tr style=\"text-align: right;\">\n",
       "      <th></th>\n",
       "      <th>MONTH</th>\n",
       "      <th>HOUR</th>\n",
       "      <th>PM</th>\n",
       "      <th>NO2</th>\n",
       "      <th>CO</th>\n",
       "      <th>TEMPERATURE</th>\n",
       "      <th>WIND SPEED</th>\n",
       "      <th>HUMIDITY</th>\n",
       "    </tr>\n",
       "  </thead>\n",
       "  <tbody>\n",
       "  </tbody>\n",
       "</table>\n",
       "</div>"
      ],
      "text/plain": [
       "Empty DataFrame\n",
       "Columns: [MONTH, HOUR, PM, NO2, CO, TEMPERATURE, WIND SPEED, HUMIDITY]\n",
       "Index: []"
      ]
     },
     "execution_count": 13,
     "metadata": {},
     "output_type": "execute_result"
    }
   ],
   "source": [
    "data[data['NO2'] < 0 ]"
   ]
  },
  {
   "cell_type": "code",
   "execution_count": 14,
   "metadata": {},
   "outputs": [
    {
     "data": {
      "text/html": [
       "<div>\n",
       "<style scoped>\n",
       "    .dataframe tbody tr th:only-of-type {\n",
       "        vertical-align: middle;\n",
       "    }\n",
       "\n",
       "    .dataframe tbody tr th {\n",
       "        vertical-align: top;\n",
       "    }\n",
       "\n",
       "    .dataframe thead th {\n",
       "        text-align: right;\n",
       "    }\n",
       "</style>\n",
       "<table border=\"1\" class=\"dataframe\">\n",
       "  <thead>\n",
       "    <tr style=\"text-align: right;\">\n",
       "      <th></th>\n",
       "      <th>PM</th>\n",
       "      <th>NO2</th>\n",
       "      <th>CO</th>\n",
       "      <th>TEMPERATURE</th>\n",
       "      <th>WIND SPEED</th>\n",
       "      <th>HUMIDITY</th>\n",
       "    </tr>\n",
       "  </thead>\n",
       "  <tbody>\n",
       "    <tr>\n",
       "      <th>0</th>\n",
       "      <td>311</td>\n",
       "      <td>138</td>\n",
       "      <td>93</td>\n",
       "      <td>13</td>\n",
       "      <td>4</td>\n",
       "      <td>82</td>\n",
       "    </tr>\n",
       "    <tr>\n",
       "      <th>1</th>\n",
       "      <td>327</td>\n",
       "      <td>154</td>\n",
       "      <td>90</td>\n",
       "      <td>10</td>\n",
       "      <td>9</td>\n",
       "      <td>87</td>\n",
       "    </tr>\n",
       "    <tr>\n",
       "      <th>2</th>\n",
       "      <td>331</td>\n",
       "      <td>153</td>\n",
       "      <td>69</td>\n",
       "      <td>15</td>\n",
       "      <td>13</td>\n",
       "      <td>72</td>\n",
       "    </tr>\n",
       "    <tr>\n",
       "      <th>3</th>\n",
       "      <td>334</td>\n",
       "      <td>148</td>\n",
       "      <td>45</td>\n",
       "      <td>23</td>\n",
       "      <td>13</td>\n",
       "      <td>47</td>\n",
       "    </tr>\n",
       "    <tr>\n",
       "      <th>4</th>\n",
       "      <td>337</td>\n",
       "      <td>144</td>\n",
       "      <td>61</td>\n",
       "      <td>18</td>\n",
       "      <td>2</td>\n",
       "      <td>59</td>\n",
       "    </tr>\n",
       "  </tbody>\n",
       "</table>\n",
       "</div>"
      ],
      "text/plain": [
       "    PM  NO2  CO  TEMPERATURE  WIND SPEED  HUMIDITY\n",
       "0  311  138  93           13           4        82\n",
       "1  327  154  90           10           9        87\n",
       "2  331  153  69           15          13        72\n",
       "3  334  148  45           23          13        47\n",
       "4  337  144  61           18           2        59"
      ]
     },
     "execution_count": 14,
     "metadata": {},
     "output_type": "execute_result"
    }
   ],
   "source": [
    "data = data.drop(['MONTH','HOUR'], axis = 1)\n",
    "data.head()"
   ]
  },
  {
   "cell_type": "code",
   "execution_count": 15,
   "metadata": {},
   "outputs": [
    {
     "data": {
      "text/plain": [
       "PM             0\n",
       "NO2            0\n",
       "CO             0\n",
       "TEMPERATURE    0\n",
       "WIND SPEED     0\n",
       "HUMIDITY       0\n",
       "dtype: int64"
      ]
     },
     "execution_count": 15,
     "metadata": {},
     "output_type": "execute_result"
    }
   ],
   "source": [
    "## Look for missing values\n",
    "data.isnull().sum()"
   ]
  },
  {
   "cell_type": "code",
   "execution_count": 16,
   "metadata": {},
   "outputs": [
    {
     "data": {
      "text/html": [
       "<div>\n",
       "<style scoped>\n",
       "    .dataframe tbody tr th:only-of-type {\n",
       "        vertical-align: middle;\n",
       "    }\n",
       "\n",
       "    .dataframe tbody tr th {\n",
       "        vertical-align: top;\n",
       "    }\n",
       "\n",
       "    .dataframe thead th {\n",
       "        text-align: right;\n",
       "    }\n",
       "</style>\n",
       "<table border=\"1\" class=\"dataframe\">\n",
       "  <thead>\n",
       "    <tr style=\"text-align: right;\">\n",
       "      <th></th>\n",
       "      <th>PM</th>\n",
       "      <th>NO2</th>\n",
       "      <th>CO</th>\n",
       "      <th>TEMPERATURE</th>\n",
       "      <th>WIND SPEED</th>\n",
       "      <th>HUMIDITY</th>\n",
       "    </tr>\n",
       "  </thead>\n",
       "  <tbody>\n",
       "    <tr>\n",
       "      <th>PM</th>\n",
       "      <td>1.000000</td>\n",
       "      <td>0.866001</td>\n",
       "      <td>0.578549</td>\n",
       "      <td>-0.668970</td>\n",
       "      <td>-0.458735</td>\n",
       "      <td>-0.311263</td>\n",
       "    </tr>\n",
       "    <tr>\n",
       "      <th>NO2</th>\n",
       "      <td>0.866001</td>\n",
       "      <td>1.000000</td>\n",
       "      <td>0.474530</td>\n",
       "      <td>-0.621023</td>\n",
       "      <td>-0.513662</td>\n",
       "      <td>-0.381453</td>\n",
       "    </tr>\n",
       "    <tr>\n",
       "      <th>CO</th>\n",
       "      <td>0.578549</td>\n",
       "      <td>0.474530</td>\n",
       "      <td>1.000000</td>\n",
       "      <td>-0.602729</td>\n",
       "      <td>-0.492121</td>\n",
       "      <td>0.214864</td>\n",
       "    </tr>\n",
       "    <tr>\n",
       "      <th>TEMPERATURE</th>\n",
       "      <td>-0.668970</td>\n",
       "      <td>-0.621023</td>\n",
       "      <td>-0.602729</td>\n",
       "      <td>1.000000</td>\n",
       "      <td>0.512699</td>\n",
       "      <td>-0.171220</td>\n",
       "    </tr>\n",
       "    <tr>\n",
       "      <th>WIND SPEED</th>\n",
       "      <td>-0.458735</td>\n",
       "      <td>-0.513662</td>\n",
       "      <td>-0.492121</td>\n",
       "      <td>0.512699</td>\n",
       "      <td>1.000000</td>\n",
       "      <td>-0.054458</td>\n",
       "    </tr>\n",
       "    <tr>\n",
       "      <th>HUMIDITY</th>\n",
       "      <td>-0.311263</td>\n",
       "      <td>-0.381453</td>\n",
       "      <td>0.214864</td>\n",
       "      <td>-0.171220</td>\n",
       "      <td>-0.054458</td>\n",
       "      <td>1.000000</td>\n",
       "    </tr>\n",
       "  </tbody>\n",
       "</table>\n",
       "</div>"
      ],
      "text/plain": [
       "                   PM       NO2        CO  TEMPERATURE  WIND SPEED  HUMIDITY\n",
       "PM           1.000000  0.866001  0.578549    -0.668970   -0.458735 -0.311263\n",
       "NO2          0.866001  1.000000  0.474530    -0.621023   -0.513662 -0.381453\n",
       "CO           0.578549  0.474530  1.000000    -0.602729   -0.492121  0.214864\n",
       "TEMPERATURE -0.668970 -0.621023 -0.602729     1.000000    0.512699 -0.171220\n",
       "WIND SPEED  -0.458735 -0.513662 -0.492121     0.512699    1.000000 -0.054458\n",
       "HUMIDITY    -0.311263 -0.381453  0.214864    -0.171220   -0.054458  1.000000"
      ]
     },
     "execution_count": 16,
     "metadata": {},
     "output_type": "execute_result"
    }
   ],
   "source": [
    "corr_matrix1 = data.corr()\n",
    "corr_matrix1"
   ]
  },
  {
   "cell_type": "code",
   "execution_count": 17,
   "metadata": {},
   "outputs": [],
   "source": [
    "## setting up of mask to hide the upper traingle:\n",
    "\n",
    "mask = np.zeros_like(corr_matrix1, dtype = np.bool )\n",
    "mask[np.triu_indices_from(mask)]  = True\n",
    "\n",
    "## This mask will be used to generate the heatmap"
   ]
  },
  {
   "cell_type": "code",
   "execution_count": 18,
   "metadata": {},
   "outputs": [
    {
     "data": {
      "image/png": "[encoded data removed]",
      "text/plain": [
       "<Figure size 792x1080 with 2 Axes>"
      ]
     },
     "metadata": {
      "needs_background": "light"
     },
     "output_type": "display_data"
    }
   ],
   "source": [
    "## creation of the heatmap:\n",
    "\n",
    "fig , ax = plt.subplots(figsize = (11,15))\n",
    "\n",
    "heatmap = sns.heatmap(corr_matrix1 , mask = mask, square = True, linewidths = 0.5, cmap = 'coolwarm',\n",
    "                     cbar_kws = {'shrink': 0.4, 'ticks':[-1, -0.5, 0, 0.5, 1]},\n",
    "                     vmin = -1, vmax = 1, annot = True, annot_kws = {'size':12})\n",
    "\n",
    "ax.set_yticklabels(corr_matrix1.columns , rotation = 0)\n",
    "ax.set_xticklabels(corr_matrix1.columns)\n",
    "\n",
    "sns.set_style({'xtick.bottom': True}, {'ytick.left':True})\n"
   ]
  },
  {
   "cell_type": "code",
   "execution_count": 19,
   "metadata": {},
   "outputs": [],
   "source": [
    "heatmap.get_figure().savefig('heatmap.png', dpi = 400)"
   ]
  },
  {
   "cell_type": "markdown",
   "metadata": {},
   "source": [
    "#### Now we will use variance inflation factor to test the presence of multicollinearity among the independent features i.e NO2, CO, Temperature, Wind Speed and Humidity which will be used for classification of PM2.5 concentration in the air as hazardous or not"
   ]
  },
  {
   "cell_type": "code",
   "execution_count": 20,
   "metadata": {},
   "outputs": [
    {
     "data": {
      "text/html": [
       "<div>\n",
       "<style scoped>\n",
       "    .dataframe tbody tr th:only-of-type {\n",
       "        vertical-align: middle;\n",
       "    }\n",
       "\n",
       "    .dataframe tbody tr th {\n",
       "        vertical-align: top;\n",
       "    }\n",
       "\n",
       "    .dataframe thead th {\n",
       "        text-align: right;\n",
       "    }\n",
       "</style>\n",
       "<table border=\"1\" class=\"dataframe\">\n",
       "  <thead>\n",
       "    <tr style=\"text-align: right;\">\n",
       "      <th></th>\n",
       "      <th>features</th>\n",
       "      <th>VIF</th>\n",
       "    </tr>\n",
       "  </thead>\n",
       "  <tbody>\n",
       "    <tr>\n",
       "      <th>0</th>\n",
       "      <td>NO2</td>\n",
       "      <td>4.071770</td>\n",
       "    </tr>\n",
       "    <tr>\n",
       "      <th>1</th>\n",
       "      <td>CO</td>\n",
       "      <td>10.584828</td>\n",
       "    </tr>\n",
       "    <tr>\n",
       "      <th>2</th>\n",
       "      <td>TEMPERATURE</td>\n",
       "      <td>15.471887</td>\n",
       "    </tr>\n",
       "    <tr>\n",
       "      <th>3</th>\n",
       "      <td>WIND SPEED</td>\n",
       "      <td>4.315637</td>\n",
       "    </tr>\n",
       "    <tr>\n",
       "      <th>4</th>\n",
       "      <td>HUMIDITY</td>\n",
       "      <td>20.716561</td>\n",
       "    </tr>\n",
       "  </tbody>\n",
       "</table>\n",
       "</div>"
      ],
      "text/plain": [
       "      features        VIF\n",
       "0          NO2   4.071770\n",
       "1           CO  10.584828\n",
       "2  TEMPERATURE  15.471887\n",
       "3   WIND SPEED   4.315637\n",
       "4     HUMIDITY  20.716561"
      ]
     },
     "execution_count": 20,
     "metadata": {},
     "output_type": "execute_result"
    }
   ],
   "source": [
    "from statsmodels.stats.outliers_influence import variance_inflation_factor\n",
    "\n",
    "X = data[['NO2','CO','TEMPERATURE','WIND SPEED','HUMIDITY']]\n",
    "vif_data = pd.DataFrame()\n",
    "vif_data['features'] = X.columns\n",
    "vif_data['VIF'] = [variance_inflation_factor(X.values,i) for i in range(len(X.columns))]\n",
    "vif_data\n"
   ]
  },
  {
   "cell_type": "code",
   "execution_count": 21,
   "metadata": {},
   "outputs": [
    {
     "data": {
      "text/html": [
       "<div>\n",
       "<style scoped>\n",
       "    .dataframe tbody tr th:only-of-type {\n",
       "        vertical-align: middle;\n",
       "    }\n",
       "\n",
       "    .dataframe tbody tr th {\n",
       "        vertical-align: top;\n",
       "    }\n",
       "\n",
       "    .dataframe thead th {\n",
       "        text-align: right;\n",
       "    }\n",
       "</style>\n",
       "<table border=\"1\" class=\"dataframe\">\n",
       "  <thead>\n",
       "    <tr style=\"text-align: right;\">\n",
       "      <th></th>\n",
       "      <th>features</th>\n",
       "      <th>VIF</th>\n",
       "    </tr>\n",
       "  </thead>\n",
       "  <tbody>\n",
       "    <tr>\n",
       "      <th>0</th>\n",
       "      <td>NO2</td>\n",
       "      <td>3.960355</td>\n",
       "    </tr>\n",
       "    <tr>\n",
       "      <th>1</th>\n",
       "      <td>CO</td>\n",
       "      <td>6.040274</td>\n",
       "    </tr>\n",
       "    <tr>\n",
       "      <th>2</th>\n",
       "      <td>TEMPERATURE</td>\n",
       "      <td>8.504572</td>\n",
       "    </tr>\n",
       "    <tr>\n",
       "      <th>3</th>\n",
       "      <td>WIND SPEED</td>\n",
       "      <td>4.283653</td>\n",
       "    </tr>\n",
       "  </tbody>\n",
       "</table>\n",
       "</div>"
      ],
      "text/plain": [
       "      features       VIF\n",
       "0          NO2  3.960355\n",
       "1           CO  6.040274\n",
       "2  TEMPERATURE  8.504572\n",
       "3   WIND SPEED  4.283653"
      ]
     },
     "execution_count": 21,
     "metadata": {},
     "output_type": "execute_result"
    }
   ],
   "source": [
    "X = data[['NO2','CO','TEMPERATURE','WIND SPEED']]\n",
    "vif_data = pd.DataFrame()\n",
    "vif_data['features'] = X.columns\n",
    "vif_data['VIF'] = [variance_inflation_factor(X.values,i) for i in range(len(X.columns))]\n",
    "vif_data\n"
   ]
  },
  {
   "cell_type": "code",
   "execution_count": 22,
   "metadata": {},
   "outputs": [
    {
     "data": {
      "image/png": "[encoded data removed]",
      "text/plain": [
       "<Figure size 432x288 with 4 Axes>"
      ]
     },
     "metadata": {
      "needs_background": "light"
     },
     "output_type": "display_data"
    }
   ],
   "source": [
    "## Check the histograms of the independent variables in order to form a rough idea about their underlying distributions\n",
    "X.hist()\n",
    "plt.show()"
   ]
  },
  {
   "cell_type": "code",
   "execution_count": 23,
   "metadata": {},
   "outputs": [
    {
     "data": {
      "text/html": [
       "<div>\n",
       "<style scoped>\n",
       "    .dataframe tbody tr th:only-of-type {\n",
       "        vertical-align: middle;\n",
       "    }\n",
       "\n",
       "    .dataframe tbody tr th {\n",
       "        vertical-align: top;\n",
       "    }\n",
       "\n",
       "    .dataframe thead th {\n",
       "        text-align: right;\n",
       "    }\n",
       "</style>\n",
       "<table border=\"1\" class=\"dataframe\">\n",
       "  <thead>\n",
       "    <tr style=\"text-align: right;\">\n",
       "      <th></th>\n",
       "      <th>PM</th>\n",
       "      <th>NO2</th>\n",
       "      <th>CO</th>\n",
       "      <th>TEMPERATURE</th>\n",
       "      <th>WIND SPEED</th>\n",
       "      <th>HUMIDITY</th>\n",
       "    </tr>\n",
       "  </thead>\n",
       "  <tbody>\n",
       "    <tr>\n",
       "      <th>0</th>\n",
       "      <td>311</td>\n",
       "      <td>138</td>\n",
       "      <td>93</td>\n",
       "      <td>13</td>\n",
       "      <td>4</td>\n",
       "      <td>82</td>\n",
       "    </tr>\n",
       "    <tr>\n",
       "      <th>1</th>\n",
       "      <td>327</td>\n",
       "      <td>154</td>\n",
       "      <td>90</td>\n",
       "      <td>10</td>\n",
       "      <td>9</td>\n",
       "      <td>87</td>\n",
       "    </tr>\n",
       "    <tr>\n",
       "      <th>2</th>\n",
       "      <td>331</td>\n",
       "      <td>153</td>\n",
       "      <td>69</td>\n",
       "      <td>15</td>\n",
       "      <td>13</td>\n",
       "      <td>72</td>\n",
       "    </tr>\n",
       "    <tr>\n",
       "      <th>3</th>\n",
       "      <td>334</td>\n",
       "      <td>148</td>\n",
       "      <td>45</td>\n",
       "      <td>23</td>\n",
       "      <td>13</td>\n",
       "      <td>47</td>\n",
       "    </tr>\n",
       "    <tr>\n",
       "      <th>4</th>\n",
       "      <td>337</td>\n",
       "      <td>144</td>\n",
       "      <td>61</td>\n",
       "      <td>18</td>\n",
       "      <td>2</td>\n",
       "      <td>59</td>\n",
       "    </tr>\n",
       "  </tbody>\n",
       "</table>\n",
       "</div>"
      ],
      "text/plain": [
       "    PM  NO2  CO  TEMPERATURE  WIND SPEED  HUMIDITY\n",
       "0  311  138  93           13           4        82\n",
       "1  327  154  90           10           9        87\n",
       "2  331  153  69           15          13        72\n",
       "3  334  148  45           23          13        47\n",
       "4  337  144  61           18           2        59"
      ]
     },
     "execution_count": 23,
     "metadata": {},
     "output_type": "execute_result"
    }
   ],
   "source": [
    "data1 = data.copy()\n",
    "data1.head()"
   ]
  },
  {
   "cell_type": "code",
   "execution_count": 24,
   "metadata": {},
   "outputs": [
    {
     "data": {
      "text/html": [
       "<div>\n",
       "<style scoped>\n",
       "    .dataframe tbody tr th:only-of-type {\n",
       "        vertical-align: middle;\n",
       "    }\n",
       "\n",
       "    .dataframe tbody tr th {\n",
       "        vertical-align: top;\n",
       "    }\n",
       "\n",
       "    .dataframe thead th {\n",
       "        text-align: right;\n",
       "    }\n",
       "</style>\n",
       "<table border=\"1\" class=\"dataframe\">\n",
       "  <thead>\n",
       "    <tr style=\"text-align: right;\">\n",
       "      <th></th>\n",
       "      <th>PM</th>\n",
       "      <th>NO2</th>\n",
       "      <th>CO</th>\n",
       "      <th>TEMPERATURE</th>\n",
       "      <th>WIND SPEED</th>\n",
       "      <th>HUMIDITY</th>\n",
       "    </tr>\n",
       "  </thead>\n",
       "  <tbody>\n",
       "    <tr>\n",
       "      <th>0</th>\n",
       "      <td>1</td>\n",
       "      <td>138</td>\n",
       "      <td>93</td>\n",
       "      <td>13</td>\n",
       "      <td>4</td>\n",
       "      <td>82</td>\n",
       "    </tr>\n",
       "    <tr>\n",
       "      <th>1</th>\n",
       "      <td>1</td>\n",
       "      <td>154</td>\n",
       "      <td>90</td>\n",
       "      <td>10</td>\n",
       "      <td>9</td>\n",
       "      <td>87</td>\n",
       "    </tr>\n",
       "    <tr>\n",
       "      <th>2</th>\n",
       "      <td>1</td>\n",
       "      <td>153</td>\n",
       "      <td>69</td>\n",
       "      <td>15</td>\n",
       "      <td>13</td>\n",
       "      <td>72</td>\n",
       "    </tr>\n",
       "    <tr>\n",
       "      <th>3</th>\n",
       "      <td>1</td>\n",
       "      <td>148</td>\n",
       "      <td>45</td>\n",
       "      <td>23</td>\n",
       "      <td>13</td>\n",
       "      <td>47</td>\n",
       "    </tr>\n",
       "    <tr>\n",
       "      <th>4</th>\n",
       "      <td>1</td>\n",
       "      <td>144</td>\n",
       "      <td>61</td>\n",
       "      <td>18</td>\n",
       "      <td>2</td>\n",
       "      <td>59</td>\n",
       "    </tr>\n",
       "  </tbody>\n",
       "</table>\n",
       "</div>"
      ],
      "text/plain": [
       "   PM  NO2  CO  TEMPERATURE  WIND SPEED  HUMIDITY\n",
       "0   1  138  93           13           4        82\n",
       "1   1  154  90           10           9        87\n",
       "2   1  153  69           15          13        72\n",
       "3   1  148  45           23          13        47\n",
       "4   1  144  61           18           2        59"
      ]
     },
     "execution_count": 24,
     "metadata": {},
     "output_type": "execute_result"
    }
   ],
   "source": [
    "## Transform the PM column in the data set to zero or one. Value above 60 is classified as 1 (polluted)\n",
    "data1.PM = np.where(data1.PM >= 60, 1, 0)\n",
    "data1.head()\n",
    "\n",
    "\n"
   ]
  },
  {
   "cell_type": "code",
   "execution_count": 25,
   "metadata": {},
   "outputs": [
    {
     "data": {
      "text/html": [
       "<div>\n",
       "<style scoped>\n",
       "    .dataframe tbody tr th:only-of-type {\n",
       "        vertical-align: middle;\n",
       "    }\n",
       "\n",
       "    .dataframe tbody tr th {\n",
       "        vertical-align: top;\n",
       "    }\n",
       "\n",
       "    .dataframe thead th {\n",
       "        text-align: right;\n",
       "    }\n",
       "</style>\n",
       "<table border=\"1\" class=\"dataframe\">\n",
       "  <thead>\n",
       "    <tr style=\"text-align: right;\">\n",
       "      <th></th>\n",
       "      <th>PM</th>\n",
       "      <th>NO2</th>\n",
       "      <th>CO</th>\n",
       "      <th>TEMPERATURE</th>\n",
       "      <th>WIND SPEED</th>\n",
       "      <th>HUMIDITY</th>\n",
       "    </tr>\n",
       "  </thead>\n",
       "  <tbody>\n",
       "    <tr>\n",
       "      <th>340</th>\n",
       "      <td>0</td>\n",
       "      <td>78</td>\n",
       "      <td>48</td>\n",
       "      <td>19</td>\n",
       "      <td>11</td>\n",
       "      <td>94</td>\n",
       "    </tr>\n",
       "    <tr>\n",
       "      <th>341</th>\n",
       "      <td>0</td>\n",
       "      <td>77</td>\n",
       "      <td>47</td>\n",
       "      <td>19</td>\n",
       "      <td>9</td>\n",
       "      <td>94</td>\n",
       "    </tr>\n",
       "    <tr>\n",
       "      <th>342</th>\n",
       "      <td>0</td>\n",
       "      <td>72</td>\n",
       "      <td>45</td>\n",
       "      <td>19</td>\n",
       "      <td>7</td>\n",
       "      <td>94</td>\n",
       "    </tr>\n",
       "    <tr>\n",
       "      <th>343</th>\n",
       "      <td>0</td>\n",
       "      <td>70</td>\n",
       "      <td>36</td>\n",
       "      <td>17</td>\n",
       "      <td>3</td>\n",
       "      <td>94</td>\n",
       "    </tr>\n",
       "    <tr>\n",
       "      <th>344</th>\n",
       "      <td>0</td>\n",
       "      <td>67</td>\n",
       "      <td>32</td>\n",
       "      <td>21</td>\n",
       "      <td>11</td>\n",
       "      <td>83</td>\n",
       "    </tr>\n",
       "    <tr>\n",
       "      <th>...</th>\n",
       "      <td>...</td>\n",
       "      <td>...</td>\n",
       "      <td>...</td>\n",
       "      <td>...</td>\n",
       "      <td>...</td>\n",
       "      <td>...</td>\n",
       "    </tr>\n",
       "    <tr>\n",
       "      <th>1339</th>\n",
       "      <td>0</td>\n",
       "      <td>38</td>\n",
       "      <td>43</td>\n",
       "      <td>24</td>\n",
       "      <td>11</td>\n",
       "      <td>94</td>\n",
       "    </tr>\n",
       "    <tr>\n",
       "      <th>1340</th>\n",
       "      <td>0</td>\n",
       "      <td>37</td>\n",
       "      <td>47</td>\n",
       "      <td>29</td>\n",
       "      <td>11</td>\n",
       "      <td>70</td>\n",
       "    </tr>\n",
       "    <tr>\n",
       "      <th>1341</th>\n",
       "      <td>0</td>\n",
       "      <td>44</td>\n",
       "      <td>66</td>\n",
       "      <td>26</td>\n",
       "      <td>0</td>\n",
       "      <td>84</td>\n",
       "    </tr>\n",
       "    <tr>\n",
       "      <th>1342</th>\n",
       "      <td>0</td>\n",
       "      <td>46</td>\n",
       "      <td>75</td>\n",
       "      <td>25</td>\n",
       "      <td>0</td>\n",
       "      <td>89</td>\n",
       "    </tr>\n",
       "    <tr>\n",
       "      <th>1343</th>\n",
       "      <td>0</td>\n",
       "      <td>56</td>\n",
       "      <td>158</td>\n",
       "      <td>23</td>\n",
       "      <td>2</td>\n",
       "      <td>94</td>\n",
       "    </tr>\n",
       "  </tbody>\n",
       "</table>\n",
       "<p>575 rows × 6 columns</p>\n",
       "</div>"
      ],
      "text/plain": [
       "      PM  NO2   CO  TEMPERATURE  WIND SPEED  HUMIDITY\n",
       "340    0   78   48           19          11        94\n",
       "341    0   77   47           19           9        94\n",
       "342    0   72   45           19           7        94\n",
       "343    0   70   36           17           3        94\n",
       "344    0   67   32           21          11        83\n",
       "...   ..  ...  ...          ...         ...       ...\n",
       "1339   0   38   43           24          11        94\n",
       "1340   0   37   47           29          11        70\n",
       "1341   0   44   66           26           0        84\n",
       "1342   0   46   75           25           0        89\n",
       "1343   0   56  158           23           2        94\n",
       "\n",
       "[575 rows x 6 columns]"
      ]
     },
     "execution_count": 25,
     "metadata": {},
     "output_type": "execute_result"
    }
   ],
   "source": [
    "data1[data1.PM == 0]"
   ]
  },
  {
   "cell_type": "code",
   "execution_count": 26,
   "metadata": {},
   "outputs": [
    {
     "data": {
      "text/html": [
       "<div>\n",
       "<style scoped>\n",
       "    .dataframe tbody tr th:only-of-type {\n",
       "        vertical-align: middle;\n",
       "    }\n",
       "\n",
       "    .dataframe tbody tr th {\n",
       "        vertical-align: top;\n",
       "    }\n",
       "\n",
       "    .dataframe thead th {\n",
       "        text-align: right;\n",
       "    }\n",
       "</style>\n",
       "<table border=\"1\" class=\"dataframe\">\n",
       "  <thead>\n",
       "    <tr style=\"text-align: right;\">\n",
       "      <th></th>\n",
       "      <th>PM</th>\n",
       "      <th>NO2</th>\n",
       "      <th>CO</th>\n",
       "      <th>TEMPERATURE</th>\n",
       "      <th>WIND SPEED</th>\n",
       "    </tr>\n",
       "  </thead>\n",
       "  <tbody>\n",
       "    <tr>\n",
       "      <th>0</th>\n",
       "      <td>1</td>\n",
       "      <td>138</td>\n",
       "      <td>93</td>\n",
       "      <td>13</td>\n",
       "      <td>4</td>\n",
       "    </tr>\n",
       "    <tr>\n",
       "      <th>1</th>\n",
       "      <td>1</td>\n",
       "      <td>154</td>\n",
       "      <td>90</td>\n",
       "      <td>10</td>\n",
       "      <td>9</td>\n",
       "    </tr>\n",
       "    <tr>\n",
       "      <th>2</th>\n",
       "      <td>1</td>\n",
       "      <td>153</td>\n",
       "      <td>69</td>\n",
       "      <td>15</td>\n",
       "      <td>13</td>\n",
       "    </tr>\n",
       "    <tr>\n",
       "      <th>3</th>\n",
       "      <td>1</td>\n",
       "      <td>148</td>\n",
       "      <td>45</td>\n",
       "      <td>23</td>\n",
       "      <td>13</td>\n",
       "    </tr>\n",
       "    <tr>\n",
       "      <th>4</th>\n",
       "      <td>1</td>\n",
       "      <td>144</td>\n",
       "      <td>61</td>\n",
       "      <td>18</td>\n",
       "      <td>2</td>\n",
       "    </tr>\n",
       "  </tbody>\n",
       "</table>\n",
       "</div>"
      ],
      "text/plain": [
       "   PM  NO2  CO  TEMPERATURE  WIND SPEED\n",
       "0   1  138  93           13           4\n",
       "1   1  154  90           10           9\n",
       "2   1  153  69           15          13\n",
       "3   1  148  45           23          13\n",
       "4   1  144  61           18           2"
      ]
     },
     "execution_count": 26,
     "metadata": {},
     "output_type": "execute_result"
    }
   ],
   "source": [
    "## We have seen earlier that dropping the feature 'Humidity' has lead to the reduction in the VIF of the other features.\n",
    "## We will now drop this feature and use logistic regression to classify the air quality:\n",
    "data1 = data1.drop(['HUMIDITY'], axis = 1)\n",
    "data1.head()"
   ]
  },
  {
   "cell_type": "code",
   "execution_count": 27,
   "metadata": {},
   "outputs": [],
   "source": [
    "x = data1.iloc[:, 1:]\n",
    "y = data1.iloc[:,0]\n"
   ]
  },
  {
   "cell_type": "code",
   "execution_count": 28,
   "metadata": {},
   "outputs": [],
   "source": [
    "## We will make use of minmax scaler to scale the independent variables since they have different scales of measurement.\n",
    "## let us first split our data into train and test set:\n",
    "from sklearn.model_selection import train_test_split"
   ]
  },
  {
   "cell_type": "code",
   "execution_count": 29,
   "metadata": {},
   "outputs": [],
   "source": [
    "x_train, x_test, y_train, y_test = train_test_split(x,y, test_size = 0.2, random_state = 30)"
   ]
  },
  {
   "cell_type": "code",
   "execution_count": 30,
   "metadata": {},
   "outputs": [],
   "source": [
    "from sklearn.preprocessing import MinMaxScaler\n",
    "scaler = MinMaxScaler()\n",
    "# We fit the scaler to the train data and learn the parameters:\n",
    "scaler.fit(x_train)\n",
    "# let's transform the train and test data now:\n",
    "x_train_scaled = scaler.transform(x_train)\n",
    "x_test_scaled = scaler.transform(x_test)\n"
   ]
  },
  {
   "cell_type": "code",
   "execution_count": 31,
   "metadata": {},
   "outputs": [],
   "source": [
    "x_train_scaled = pd.DataFrame(x_train_scaled,columns = x_train.columns)\n",
    "x_test_scaled = pd.DataFrame(x_test_scaled,columns = x_test.columns)\n",
    "## Now we will apply logistic regression to predict the concentration of PM2.5:\n",
    "from sklearn.linear_model import LogisticRegression\n",
    "clf = LogisticRegression()"
   ]
  },
  {
   "cell_type": "code",
   "execution_count": 32,
   "metadata": {},
   "outputs": [
    {
     "data": {
      "text/plain": [
       "LogisticRegression(C=1.0, class_weight=None, dual=False, fit_intercept=True,\n",
       "                   intercept_scaling=1, l1_ratio=None, max_iter=100,\n",
       "                   multi_class='auto', n_jobs=None, penalty='l2',\n",
       "                   random_state=None, solver='lbfgs', tol=0.0001, verbose=0,\n",
       "                   warm_start=False)"
      ]
     },
     "execution_count": 32,
     "metadata": {},
     "output_type": "execute_result"
    }
   ],
   "source": [
    "clf.fit(x_train_scaled,y_train)"
   ]
  },
  {
   "cell_type": "code",
   "execution_count": 33,
   "metadata": {},
   "outputs": [],
   "source": [
    "y_pred = clf.predict(x_test_scaled)\n",
    "y_true = y_test"
   ]
  },
  {
   "cell_type": "code",
   "execution_count": 34,
   "metadata": {},
   "outputs": [
    {
     "data": {
      "text/plain": [
       "0.8711656441717791"
      ]
     },
     "execution_count": 34,
     "metadata": {},
     "output_type": "execute_result"
    }
   ],
   "source": [
    "clf.score(x_test_scaled, y_test)"
   ]
  },
  {
   "cell_type": "code",
   "execution_count": 35,
   "metadata": {},
   "outputs": [],
   "source": [
    "## Diagnostics:\n",
    "from sklearn.metrics import accuracy_score"
   ]
  },
  {
   "cell_type": "code",
   "execution_count": 36,
   "metadata": {},
   "outputs": [
    {
     "name": "stdout",
     "output_type": "stream",
     "text": [
      "Train accuracy: 0.85\n",
      "Test accuracy: 0.87\n"
     ]
    }
   ],
   "source": [
    "print(\"Train accuracy:\", np.round(accuracy_score(y_train, clf.predict(x_train_scaled)), 2))\n",
    "print(\"Test accuracy:\", np.round(accuracy_score(y_true, y_pred), 2))\n"
   ]
  },
  {
   "cell_type": "code",
   "execution_count": 37,
   "metadata": {},
   "outputs": [
    {
     "name": "stdout",
     "output_type": "stream",
     "text": [
      "\n",
      "Test confusion_matrix\n"
     ]
    },
    {
     "data": {
      "text/plain": [
       "Text(69.0, 0.5, 'True Value')"
      ]
     },
     "execution_count": 37,
     "metadata": {},
     "output_type": "execute_result"
    },
    {
     "data": {
      "image/png": "[encoded data removed]",
      "text/plain": [
       "<Figure size 720x720 with 2 Axes>"
      ]
     },
     "metadata": {
      "needs_background": "light"
     },
     "output_type": "display_data"
    }
   ],
   "source": [
    "from sklearn.metrics import confusion_matrix\n",
    "cf_matrix = confusion_matrix( y_true,y_pred)\n",
    "print(\"\\nTest confusion_matrix\")\n",
    "\n",
    "group_names = ['True Negative','False Positive','False Negative','True Positive']\n",
    "group_counts = ['{0:0.0f}'.format(value) for value in\n",
    "                cf_matrix.flatten()]\n",
    "\n",
    "labels = [f\"{v1}\\n{v2}\" for v1, v2 in\n",
    "          zip(group_names,group_counts)]\n",
    "labels = np.asarray(labels).reshape(2,2)\n",
    "\n",
    "fig , ax = plt.subplots(figsize = (10,10))\n",
    "\n",
    "heatmap1 = sns.heatmap(cf_matrix,annot = labels , cmap='Blues',fmt = '',annot_kws = {'size':15})\n",
    "plt.xlabel('Predicted Value', fontsize=12)\n",
    "plt.ylabel('True Value', fontsize=12)"
   ]
  },
  {
   "cell_type": "code",
   "execution_count": 38,
   "metadata": {},
   "outputs": [],
   "source": [
    "heatmap1.get_figure().savefig('heatmap1.png', dpi = 400)"
   ]
  },
  {
   "cell_type": "markdown",
   "metadata": {},
   "source": [
    "##### Another technique that we will use to deal with the problem of multicollinearity is the technique of Principal Component Analysis"
   ]
  },
  {
   "cell_type": "code",
   "execution_count": 39,
   "metadata": {},
   "outputs": [
    {
     "data": {
      "text/html": [
       "<div>\n",
       "<style scoped>\n",
       "    .dataframe tbody tr th:only-of-type {\n",
       "        vertical-align: middle;\n",
       "    }\n",
       "\n",
       "    .dataframe tbody tr th {\n",
       "        vertical-align: top;\n",
       "    }\n",
       "\n",
       "    .dataframe thead th {\n",
       "        text-align: right;\n",
       "    }\n",
       "</style>\n",
       "<table border=\"1\" class=\"dataframe\">\n",
       "  <thead>\n",
       "    <tr style=\"text-align: right;\">\n",
       "      <th></th>\n",
       "      <th>PM</th>\n",
       "      <th>NO2</th>\n",
       "      <th>CO</th>\n",
       "      <th>TEMPERATURE</th>\n",
       "      <th>WIND SPEED</th>\n",
       "      <th>HUMIDITY</th>\n",
       "    </tr>\n",
       "  </thead>\n",
       "  <tbody>\n",
       "    <tr>\n",
       "      <th>0</th>\n",
       "      <td>1</td>\n",
       "      <td>138</td>\n",
       "      <td>93</td>\n",
       "      <td>13</td>\n",
       "      <td>4</td>\n",
       "      <td>82</td>\n",
       "    </tr>\n",
       "    <tr>\n",
       "      <th>1</th>\n",
       "      <td>1</td>\n",
       "      <td>154</td>\n",
       "      <td>90</td>\n",
       "      <td>10</td>\n",
       "      <td>9</td>\n",
       "      <td>87</td>\n",
       "    </tr>\n",
       "    <tr>\n",
       "      <th>2</th>\n",
       "      <td>1</td>\n",
       "      <td>153</td>\n",
       "      <td>69</td>\n",
       "      <td>15</td>\n",
       "      <td>13</td>\n",
       "      <td>72</td>\n",
       "    </tr>\n",
       "    <tr>\n",
       "      <th>3</th>\n",
       "      <td>1</td>\n",
       "      <td>148</td>\n",
       "      <td>45</td>\n",
       "      <td>23</td>\n",
       "      <td>13</td>\n",
       "      <td>47</td>\n",
       "    </tr>\n",
       "    <tr>\n",
       "      <th>4</th>\n",
       "      <td>1</td>\n",
       "      <td>144</td>\n",
       "      <td>61</td>\n",
       "      <td>18</td>\n",
       "      <td>2</td>\n",
       "      <td>59</td>\n",
       "    </tr>\n",
       "  </tbody>\n",
       "</table>\n",
       "</div>"
      ],
      "text/plain": [
       "   PM  NO2  CO  TEMPERATURE  WIND SPEED  HUMIDITY\n",
       "0   1  138  93           13           4        82\n",
       "1   1  154  90           10           9        87\n",
       "2   1  153  69           15          13        72\n",
       "3   1  148  45           23          13        47\n",
       "4   1  144  61           18           2        59"
      ]
     },
     "execution_count": 39,
     "metadata": {},
     "output_type": "execute_result"
    }
   ],
   "source": [
    "data2 = data.copy()\n",
    "data2.PM = np.where(data2.PM >= 60, 1, 0)\n",
    "data2.head()"
   ]
  },
  {
   "cell_type": "code",
   "execution_count": 40,
   "metadata": {},
   "outputs": [],
   "source": [
    "x2  = data2.iloc[:,1:]\n",
    "y2 = data2.iloc[:,0]\n",
    "x2_train, x2_test, y2_train, y2_test = train_test_split(x2,y2, test_size = 0.2, random_state = 30)"
   ]
  },
  {
   "cell_type": "code",
   "execution_count": 41,
   "metadata": {},
   "outputs": [],
   "source": [
    "## At first we will apply feature scaling:\n",
    "from sklearn.preprocessing import StandardScaler\n",
    "sc  = StandardScaler()\n",
    "## Fit on the train data set:\n",
    "sc.fit(x2_train)\n",
    "x2_train_scaled = sc.transform(x2_train)\n",
    "x2_test_scaled = sc.transform(x2_test)\n",
    "\n",
    "x2_train_scaled = pd.DataFrame(x2_train_scaled,columns = x2_train.columns)\n",
    "x2_test_scaled = pd.DataFrame(x2_test_scaled,columns = x2_test.columns)"
   ]
  },
  {
   "cell_type": "code",
   "execution_count": 42,
   "metadata": {},
   "outputs": [
    {
     "name": "stdout",
     "output_type": "stream",
     "text": [
      "Eigenvalues:\n",
      "[2.62514934 1.26509886 0.52659797 0.40676175 0.18023824]\n",
      "\n",
      "Variances(Percentage):\n",
      "[52.46263089 25.28252906 10.52386411  8.12898196  3.60199397]\n",
      "\n"
     ]
    },
    {
     "data": {
      "image/png": "[encoded data removed]",
      "text/plain": [
       "<Figure size 720x720 with 1 Axes>"
      ]
     },
     "metadata": {
      "needs_background": "light"
     },
     "output_type": "display_data"
    }
   ],
   "source": [
    "## Now we will go ahead and apply PCA:\n",
    "from sklearn.decomposition import PCA\n",
    "pca = PCA(n_components = None)\n",
    "pca.fit(x2_train_scaled)\n",
    "\n",
    "## let's print the eigenvalues:\n",
    "print(\"Eigenvalues:\")\n",
    "print(pca.explained_variance_)\n",
    "print()\n",
    "\n",
    "## let's print the explained variances:\n",
    "print(\"Variances(Percentage):\")\n",
    "print(pca.explained_variance_ratio_ * 100)\n",
    "print()\n",
    "\n",
    "## Make the scree plot:\n",
    "fig , ax = plt.subplots(figsize = (10,10))\n",
    "\n",
    "\n",
    "\n",
    "screeplot= plt.plot(np.cumsum(pca.explained_variance_ratio_ * 100))\n",
    "plt.xlabel(\"Number of components (Dimensions)\", fontsize = 15)\n",
    "plt.ylabel(\"Explained variance (%)\", fontsize = 15)\n",
    "plt.xticks(fontsize =14)\n",
    "plt.yticks(fontsize = 14)\n",
    "\n",
    "## saving the figure:\n",
    "plt.savefig('screeplot.png', dpi = 400)\n"
   ]
  },
  {
   "cell_type": "markdown",
   "metadata": {},
   "source": [
    "#### We can see from the scree plot that the first three principal components together explain about 88.26% of the total variability. We will use these first three principal components. "
   ]
  },
  {
   "cell_type": "code",
   "execution_count": 43,
   "metadata": {},
   "outputs": [
    {
     "name": "stdout",
     "output_type": "stream",
     "text": [
      "          0         1         2\n",
      "0 -0.092486  1.182831 -0.118957\n",
      "1  1.731352 -1.376097 -0.051106\n",
      "2  1.478141 -0.705436 -0.626678\n",
      "3  1.917787 -0.935139 -0.207215\n",
      "4 -1.849051 -0.835446 -0.096278\n"
     ]
    }
   ],
   "source": [
    "## Let's do the feature scaling again:\n",
    "x2_train_scaled = sc.transform(x2_train)\n",
    "x2_train_scaled = pd.DataFrame(x2_train_scaled,columns = x2_train.columns)\n",
    "\n",
    "## Apply PCA:\n",
    "pca1 = PCA(n_components = 3)\n",
    "pca1.fit(x2_train_scaled)\n",
    "x2_train_pca = pca1.transform(x2_train_scaled)\n",
    "x2_test_pca = pca1.transform(x2_test_scaled)\n",
    "\n",
    "## Let us get the transformed train and test set:\n",
    "x2_train_pca = pd.DataFrame(x2_train_pca)\n",
    "x2_test_pca = pd.DataFrame(x2_test_pca)\n",
    "print(x2_train_pca.head())"
   ]
  },
  {
   "cell_type": "markdown",
   "metadata": {},
   "source": [
    "#### We will now go ahead and apply logistic regression on these 3 principal components to classify the level of PM2.5"
   ]
  },
  {
   "cell_type": "code",
   "execution_count": 44,
   "metadata": {},
   "outputs": [
    {
     "data": {
      "text/plain": [
       "LogisticRegression(C=1.0, class_weight=None, dual=False, fit_intercept=True,\n",
       "                   intercept_scaling=1, l1_ratio=None, max_iter=100,\n",
       "                   multi_class='auto', n_jobs=None, penalty='l2',\n",
       "                   random_state=None, solver='lbfgs', tol=0.0001, verbose=0,\n",
       "                   warm_start=False)"
      ]
     },
     "execution_count": 44,
     "metadata": {},
     "output_type": "execute_result"
    }
   ],
   "source": [
    "clf.fit(x2_train_pca,y2_train)"
   ]
  },
  {
   "cell_type": "code",
   "execution_count": 45,
   "metadata": {},
   "outputs": [
    {
     "data": {
      "text/plain": [
       "0.8957055214723927"
      ]
     },
     "execution_count": 45,
     "metadata": {},
     "output_type": "execute_result"
    }
   ],
   "source": [
    "y2_pred = clf.predict(x2_test_pca)\n",
    "y2_true = y2_test\n",
    "\n",
    "clf.score(x2_test_pca, y2_test)"
   ]
  },
  {
   "cell_type": "code",
   "execution_count": 46,
   "metadata": {},
   "outputs": [
    {
     "name": "stdout",
     "output_type": "stream",
     "text": [
      "\n",
      "Test confusion_matrix\n"
     ]
    },
    {
     "data": {
      "text/plain": [
       "Text(69.0, 0.5, 'True Value')"
      ]
     },
     "execution_count": 46,
     "metadata": {},
     "output_type": "execute_result"
    },
    {
     "data": {
      "image/png": "[encoded data removed]",
      "text/plain": [
       "<Figure size 720x720 with 2 Axes>"
      ]
     },
     "metadata": {
      "needs_background": "light"
     },
     "output_type": "display_data"
    }
   ],
   "source": [
    "cf2_matrix = confusion_matrix( y2_true,y2_pred)\n",
    "print(\"\\nTest confusion_matrix\")\n",
    "\n",
    "group_names = ['True Negative','False Positive','False Negative','True Positive']\n",
    "group_counts = ['{0:0.0f}'.format(value) for value in\n",
    "                cf2_matrix.flatten()]\n",
    "\n",
    "labels = [f\"{v1}\\n{v2}\" for v1, v2 in\n",
    "          zip(group_names,group_counts)]\n",
    "labels = np.asarray(labels).reshape(2,2)\n",
    "\n",
    "fig , ax = plt.subplots(figsize = (10,10))\n",
    "\n",
    "\n",
    "\n",
    "\n",
    "heatmap2 = sns.heatmap(cf2_matrix,annot = labels , cmap='Blues',fmt = '',annot_kws = {'size':15})\n",
    "plt.xlabel('Predicted Value', fontsize=12)\n",
    "plt.ylabel('True Value', fontsize=12)"
   ]
  },
  {
   "cell_type": "code",
   "execution_count": 47,
   "metadata": {},
   "outputs": [],
   "source": [
    "heatmap2.get_figure().savefig('heatmap2.png', dpi = 400)"
   ]
  },
  {
   "cell_type": "markdown",
   "metadata": {},
   "source": [
    "#### We will now use Gaussian Naive Bayes classifier to predict the concentration of PM2.5. We will check if our data is imbalanced and then apply the classifier on the principal components since the presence of multicollinearity in the data violates our naive assumption that the features are statistically independent."
   ]
  },
  {
   "cell_type": "code",
   "execution_count": 48,
   "metadata": {},
   "outputs": [
    {
     "name": "stdout",
     "output_type": "stream",
     "text": [
      "460\n",
      "841\n",
      "1301\n"
     ]
    }
   ],
   "source": [
    "print(y2_train[y2_train == 0].count())\n",
    "print(y2_train[y2_train == 1].count())\n",
    "print(y2_train.count())"
   ]
  },
  {
   "cell_type": "markdown",
   "metadata": {},
   "source": [
    "#### The imbalance ratio is roughly 4:6 and we may conclude that there is a slight imbalance in our data. But, since it is mild, we will move forward with our analysis"
   ]
  },
  {
   "cell_type": "code",
   "execution_count": 49,
   "metadata": {},
   "outputs": [
    {
     "data": {
      "text/plain": [
       "GaussianNB(priors=None, var_smoothing=1e-09)"
      ]
     },
     "execution_count": 49,
     "metadata": {},
     "output_type": "execute_result"
    }
   ],
   "source": [
    "from sklearn.naive_bayes import GaussianNB\n",
    "gnb = GaussianNB()\n",
    "gnb.fit(x2_train_pca,y2_train)"
   ]
  },
  {
   "cell_type": "code",
   "execution_count": 50,
   "metadata": {},
   "outputs": [
    {
     "data": {
      "text/plain": [
       "0.8619631901840491"
      ]
     },
     "execution_count": 50,
     "metadata": {},
     "output_type": "execute_result"
    }
   ],
   "source": [
    "y_gnb_pred = gnb.predict(x2_test_pca)\n",
    "y_gnb_true = y2_test\n",
    "\n",
    "gnb.score(x2_test_pca, y2_test)"
   ]
  },
  {
   "cell_type": "code",
   "execution_count": 51,
   "metadata": {},
   "outputs": [
    {
     "name": "stdout",
     "output_type": "stream",
     "text": [
      "\n",
      "Test confusion_matrix\n"
     ]
    },
    {
     "data": {
      "text/plain": [
       "Text(69.0, 0.5, 'True Value')"
      ]
     },
     "execution_count": 51,
     "metadata": {},
     "output_type": "execute_result"
    },
    {
     "data": {
      "image/png": "[encoded data removed]",
      "text/plain": [
       "<Figure size 720x720 with 2 Axes>"
      ]
     },
     "metadata": {
      "needs_background": "light"
     },
     "output_type": "display_data"
    }
   ],
   "source": [
    "cf3_matrix = confusion_matrix( y_gnb_true,y_gnb_pred)\n",
    "print(\"\\nTest confusion_matrix\")\n",
    "\n",
    "group_names = ['True Negative','False Positive','False Negative','True Positive']\n",
    "group_counts = ['{0:0.0f}'.format(value) for value in\n",
    "                cf3_matrix.flatten()]\n",
    "\n",
    "labels = [f\"{v1}\\n{v2}\" for v1, v2 in\n",
    "          zip(group_names,group_counts)]\n",
    "labels = np.asarray(labels).reshape(2,2)\n",
    "\n",
    "fig , ax = plt.subplots(figsize = (10,10))\n",
    "\n",
    "\n",
    "\n",
    "\n",
    "\n",
    "heatmap3 = sns.heatmap(cf3_matrix,annot = labels , cmap='Blues',fmt = '',annot_kws = {'size':15})\n",
    "plt.xlabel('Predicted Value', fontsize=12)\n",
    "plt.ylabel('True Value', fontsize=12)"
   ]
  },
  {
   "cell_type": "code",
   "execution_count": 52,
   "metadata": {},
   "outputs": [],
   "source": [
    "heatmap3.get_figure().savefig('heatmap3.png', dpi = 400)"
   ]
  },
  {
   "cell_type": "markdown",
   "metadata": {},
   "source": [
    "#### We will now use a K nearest neighbors algorithm which is a non parametric approach to classify the quality of air. One assumption that we will make for running this algorithm is that the data appear in a cluster.\n",
    "#### Also we will apply this algorithm on our normalized data since it is using Euclidean distance which gets affected my the range of the data. We are using Min-Max scaler here, because for KNN, we do not make any assumptions regarding the distribution of the data. "
   ]
  },
  {
   "cell_type": "code",
   "execution_count": 53,
   "metadata": {},
   "outputs": [],
   "source": [
    "from sklearn.neighbors import KNeighborsClassifier"
   ]
  },
  {
   "cell_type": "code",
   "execution_count": 54,
   "metadata": {},
   "outputs": [
    {
     "data": {
      "text/plain": [
       "KNeighborsClassifier(algorithm='auto', leaf_size=30, metric='minkowski',\n",
       "                     metric_params=None, n_jobs=None, n_neighbors=1, p=2,\n",
       "                     weights='uniform')"
      ]
     },
     "execution_count": 54,
     "metadata": {},
     "output_type": "execute_result"
    }
   ],
   "source": [
    "knn = KNeighborsClassifier(n_neighbors = 1)\n",
    "\n",
    "knn.fit(x_train_scaled, y_train)"
   ]
  },
  {
   "cell_type": "code",
   "execution_count": 55,
   "metadata": {},
   "outputs": [],
   "source": [
    "y_knn_pred = knn.predict(x_test_scaled)\n",
    "y_knn_true = y_test"
   ]
  },
  {
   "cell_type": "code",
   "execution_count": 56,
   "metadata": {},
   "outputs": [
    {
     "data": {
      "text/plain": [
       "0.901840490797546"
      ]
     },
     "execution_count": 56,
     "metadata": {},
     "output_type": "execute_result"
    }
   ],
   "source": [
    "knn.score(x_test_scaled, y_test)"
   ]
  },
  {
   "cell_type": "markdown",
   "metadata": {},
   "source": [
    "#### Although we have a high score here, we will have to device some means to find the optimum value of 'k' for our analysis. We will use the elbow method for this purpose."
   ]
  },
  {
   "cell_type": "code",
   "execution_count": 57,
   "metadata": {},
   "outputs": [],
   "source": [
    "accuracy_rate = []\n",
    "\n",
    "for i in range(1,41):\n",
    "    knn = KNeighborsClassifier(n_neighbors = i)\n",
    "    knn.fit(x_train_scaled, y_train)\n",
    "    score = knn.score(x_test_scaled, y_test)\n",
    "    accuracy_rate.append(score)\n",
    "    "
   ]
  },
  {
   "cell_type": "code",
   "execution_count": 58,
   "metadata": {},
   "outputs": [
    {
     "data": {
      "text/plain": [
       "[0.901840490797546,\n",
       " 0.8926380368098159,\n",
       " 0.901840490797546,\n",
       " 0.8987730061349694,\n",
       " 0.9079754601226994,\n",
       " 0.8926380368098159,\n",
       " 0.8957055214723927,\n",
       " 0.9049079754601227,\n",
       " 0.911042944785276,\n",
       " 0.9079754601226994,\n",
       " 0.9079754601226994,\n",
       " 0.911042944785276,\n",
       " 0.9141104294478528,\n",
       " 0.9079754601226994,\n",
       " 0.9079754601226994,\n",
       " 0.901840490797546,\n",
       " 0.9079754601226994,\n",
       " 0.9049079754601227,\n",
       " 0.9049079754601227,\n",
       " 0.9049079754601227,\n",
       " 0.9079754601226994,\n",
       " 0.901840490797546,\n",
       " 0.9049079754601227,\n",
       " 0.8957055214723927,\n",
       " 0.8957055214723927,\n",
       " 0.8957055214723927,\n",
       " 0.901840490797546,\n",
       " 0.8987730061349694,\n",
       " 0.901840490797546,\n",
       " 0.8926380368098159,\n",
       " 0.8957055214723927,\n",
       " 0.8834355828220859,\n",
       " 0.8834355828220859,\n",
       " 0.8773006134969326,\n",
       " 0.8834355828220859,\n",
       " 0.8834355828220859,\n",
       " 0.8834355828220859,\n",
       " 0.8803680981595092,\n",
       " 0.8834355828220859,\n",
       " 0.8803680981595092]"
      ]
     },
     "execution_count": 58,
     "metadata": {},
     "output_type": "execute_result"
    }
   ],
   "source": [
    "accuracy_rate"
   ]
  },
  {
   "cell_type": "code",
   "execution_count": 59,
   "metadata": {},
   "outputs": [
    {
     "data": {
      "image/png": "[encoded data removed]",
      "text/plain": [
       "<Figure size 720x432 with 1 Axes>"
      ]
     },
     "metadata": {
      "needs_background": "light"
     },
     "output_type": "display_data"
    }
   ],
   "source": [
    "\n",
    "\n",
    "\n",
    "\n",
    "\n",
    "\n",
    "plt.figure(figsize = (10,6))\n",
    "plt.plot(range(1,41), accuracy_rate, color = 'blue', linestyle = 'dashed', marker = 'o', markerfacecolor = 'red', markersize = 10)\n",
    "plt.title(\"Accuracy Rate vs K-Values\", fontsize = 17)\n",
    "plt.xlabel('K values', fontsize = 15)\n",
    "plt.ylabel('Accuracy Rate', fontsize = 15)\n",
    "\n",
    "plt.savefig('plot_knn.png', dpi = 400)"
   ]
  },
  {
   "cell_type": "markdown",
   "metadata": {},
   "source": [
    "#### We can see that for a value of k around 12-13, the accuracy rate has has reached it's maximum height."
   ]
  },
  {
   "cell_type": "code",
   "execution_count": 60,
   "metadata": {},
   "outputs": [
    {
     "data": {
      "text/plain": [
       "KNeighborsClassifier(algorithm='auto', leaf_size=30, metric='minkowski',\n",
       "                     metric_params=None, n_jobs=None, n_neighbors=13, p=2,\n",
       "                     weights='uniform')"
      ]
     },
     "execution_count": 60,
     "metadata": {},
     "output_type": "execute_result"
    }
   ],
   "source": [
    "knn = KNeighborsClassifier(n_neighbors = 13)\n",
    "\n",
    "knn.fit(x_train_scaled, y_train)"
   ]
  },
  {
   "cell_type": "code",
   "execution_count": 61,
   "metadata": {},
   "outputs": [],
   "source": [
    "y_knn_pred = knn.predict(x_test_scaled)\n",
    "y_knn_true = y_test"
   ]
  },
  {
   "cell_type": "code",
   "execution_count": 62,
   "metadata": {},
   "outputs": [
    {
     "data": {
      "text/plain": [
       "0.9141104294478528"
      ]
     },
     "execution_count": 62,
     "metadata": {},
     "output_type": "execute_result"
    }
   ],
   "source": [
    "knn.score(x_test_scaled, y_test)"
   ]
  },
  {
   "cell_type": "code",
   "execution_count": 63,
   "metadata": {},
   "outputs": [
    {
     "name": "stdout",
     "output_type": "stream",
     "text": [
      "\n",
      "Test confusion_matrix\n"
     ]
    },
    {
     "data": {
      "text/plain": [
       "Text(69.0, 0.5, 'True Value')"
      ]
     },
     "execution_count": 63,
     "metadata": {},
     "output_type": "execute_result"
    },
    {
     "data": {
      "image/png": "[encoded data removed]",
      "text/plain": [
       "<Figure size 720x720 with 2 Axes>"
      ]
     },
     "metadata": {
      "needs_background": "light"
     },
     "output_type": "display_data"
    }
   ],
   "source": [
    "### We will finally make the confusion matrix:\n",
    "\n",
    "cf4_matrix = confusion_matrix( y_knn_true,y_knn_pred)\n",
    "print(\"\\nTest confusion_matrix\")\n",
    "\n",
    "group_names = ['True Negative','False Positive','False Negative','True Positive']\n",
    "group_counts = ['{0:0.0f}'.format(value) for value in\n",
    "                cf4_matrix.flatten()]\n",
    "\n",
    "labels = [f\"{v1}\\n{v2}\" for v1, v2 in\n",
    "          zip(group_names,group_counts)]\n",
    "labels = np.asarray(labels).reshape(2,2)\n",
    "\n",
    "fig , ax = plt.subplots(figsize = (10,10))\n",
    "\n",
    "\n",
    "\n",
    "\n",
    "heatmap4 = sns.heatmap(cf4_matrix,annot = labels , cmap='Blues',fmt = '',annot_kws = {'size':15})\n",
    "plt.xlabel('Predicted Value', fontsize=12)\n",
    "plt.ylabel('True Value', fontsize=12)\n"
   ]
  },
  {
   "cell_type": "code",
   "execution_count": 64,
   "metadata": {},
   "outputs": [],
   "source": [
    "heatmap4.get_figure().savefig('heatmap4.png', dpi = 400)"
   ]
  },
  {
   "cell_type": "markdown",
   "metadata": {},
   "source": [
    "#### Finally we will use Support Vector Machines to classify the air quality"
   ]
  },
  {
   "cell_type": "code",
   "execution_count": 65,
   "metadata": {},
   "outputs": [],
   "source": [
    "from sklearn import svm "
   ]
  },
  {
   "cell_type": "code",
   "execution_count": 66,
   "metadata": {},
   "outputs": [
    {
     "data": {
      "text/plain": [
       "SVC(C=1.0, break_ties=False, cache_size=200, class_weight=None, coef0=0.0,\n",
       "    decision_function_shape='ovr', degree=3, gamma='scale', kernel='linear',\n",
       "    max_iter=-1, probability=False, random_state=None, shrinking=True,\n",
       "    tol=0.001, verbose=False)"
      ]
     },
     "execution_count": 66,
     "metadata": {},
     "output_type": "execute_result"
    }
   ],
   "source": [
    "clf_svm = svm.SVC(kernel = \"linear\") ## Makes an untrained shell of a SVC\n",
    "clf_svm"
   ]
  },
  {
   "cell_type": "code",
   "execution_count": 67,
   "metadata": {},
   "outputs": [],
   "source": [
    "clf_svm.fit(x_train_scaled, y_train)\n",
    "\n",
    "y_svm_pred = clf_svm.predict(x_test_scaled)\n",
    "y_svm_true = y_test"
   ]
  },
  {
   "cell_type": "code",
   "execution_count": 68,
   "metadata": {},
   "outputs": [
    {
     "data": {
      "text/plain": [
       "0.8803680981595092"
      ]
     },
     "execution_count": 68,
     "metadata": {},
     "output_type": "execute_result"
    }
   ],
   "source": [
    " clf_svm.score(x_test_scaled, y_test)"
   ]
  },
  {
   "cell_type": "code",
   "execution_count": 69,
   "metadata": {},
   "outputs": [
    {
     "data": {
      "text/plain": [
       "GridSearchCV(cv=None, error_score=nan,\n",
       "             estimator=SVC(C=1.0, break_ties=False, cache_size=200,\n",
       "                           class_weight=None, coef0=0.0,\n",
       "                           decision_function_shape='ovr', degree=3,\n",
       "                           gamma='scale', kernel='rbf', max_iter=-1,\n",
       "                           probability=False, random_state=None, shrinking=True,\n",
       "                           tol=0.001, verbose=False),\n",
       "             iid='deprecated', n_jobs=None,\n",
       "             param_grid={'C': [0.1, 1, 10, 100], 'degree': [1, 2, 3, 4, 5, 6],\n",
       "                         'kernel': ['rbf', 'poly', 'linear']},\n",
       "             pre_dispatch='2*n_jobs', refit=True, return_train_score=False,\n",
       "             scoring=None, verbose=0)"
      ]
     },
     "execution_count": 69,
     "metadata": {},
     "output_type": "execute_result"
    }
   ],
   "source": [
    "from sklearn.model_selection import GridSearchCV\n",
    "\n",
    "param_grid = {'C':[0.1,1,10,100] , 'kernel':['rbf','poly','linear'], 'degree':[1,2,3,4,5,6]}\n",
    "grid = GridSearchCV(svm.SVC(), param_grid)\n",
    "grid.fit(x_train_scaled, y_train)"
   ]
  },
  {
   "cell_type": "code",
   "execution_count": 70,
   "metadata": {},
   "outputs": [
    {
     "name": "stdout",
     "output_type": "stream",
     "text": [
      "{'C': 100, 'degree': 1, 'kernel': 'rbf'}\n",
      "0.9202453987730062\n"
     ]
    }
   ],
   "source": [
    "print(grid.best_params_)\n",
    "print(grid.score(x_test_scaled, y_test))"
   ]
  },
  {
   "cell_type": "code",
   "execution_count": 71,
   "metadata": {},
   "outputs": [],
   "source": [
    "clf_svm1 = svm.SVC(kernel = \"rbf\", C  = 100, degree = 1)"
   ]
  },
  {
   "cell_type": "code",
   "execution_count": 72,
   "metadata": {},
   "outputs": [],
   "source": [
    "clf_svm1.fit(x_train_scaled, y_train)\n",
    "\n",
    "y_svm_pred = clf_svm1.predict(x_test_scaled)\n",
    "y_svm_true = y_test"
   ]
  },
  {
   "cell_type": "code",
   "execution_count": 73,
   "metadata": {},
   "outputs": [
    {
     "data": {
      "text/plain": [
       "0.9202453987730062"
      ]
     },
     "execution_count": 73,
     "metadata": {},
     "output_type": "execute_result"
    }
   ],
   "source": [
    "clf_svm1.score(x_test_scaled, y_test)"
   ]
  },
  {
   "cell_type": "code",
   "execution_count": 74,
   "metadata": {},
   "outputs": [
    {
     "name": "stdout",
     "output_type": "stream",
     "text": [
      "\n",
      "Test confusion_matrix\n"
     ]
    },
    {
     "data": {
      "text/plain": [
       "Text(69.0, 0.5, 'True Value')"
      ]
     },
     "execution_count": 74,
     "metadata": {},
     "output_type": "execute_result"
    },
    {
     "data": {
      "image/png": "[encoded data removed]",
      "text/plain": [
       "<Figure size 720x720 with 2 Axes>"
      ]
     },
     "metadata": {
      "needs_background": "light"
     },
     "output_type": "display_data"
    }
   ],
   "source": [
    "cf5_matrix = confusion_matrix( y_svm_true,y_svm_pred)\n",
    "print(\"\\nTest confusion_matrix\")\n",
    "\n",
    "group_names = ['True Negative','False Positive','False Negative','True Positive']\n",
    "group_counts = ['{0:0.0f}'.format(value) for value in\n",
    "                cf5_matrix.flatten()]\n",
    "\n",
    "labels = [f\"{v1}\\n{v2}\" for v1, v2 in\n",
    "          zip(group_names,group_counts)]\n",
    "labels = np.asarray(labels).reshape(2,2)\n",
    "\n",
    "fig , ax = plt.subplots(figsize = (10,10))\n",
    "\n",
    "\n",
    "\n",
    "\n",
    "\n",
    "heatmap5 = sns.heatmap(cf5_matrix,annot = labels , cmap='Blues',fmt = '', annot_kws = {'size':15})\n",
    "plt.xlabel('Predicted Value', fontsize=12)\n",
    "plt.ylabel('True Value', fontsize=12)"
   ]
  },
  {
   "cell_type": "code",
   "execution_count": 75,
   "metadata": {},
   "outputs": [],
   "source": [
    "heatmap5.get_figure().savefig('heatmap5.png', dpi = 400)"
   ]
  },
  {
   "cell_type": "code",
   "execution_count": 76,
   "metadata": {},
   "outputs": [
    {
     "data": {
      "text/plain": [
       "{'whiskers': [<matplotlib.lines.Line2D at 0x1ba4430ed48>,\n",
       "  <matplotlib.lines.Line2D at 0x1ba3be4cc48>],\n",
       " 'caps': [<matplotlib.lines.Line2D at 0x1ba4400e048>,\n",
       "  <matplotlib.lines.Line2D at 0x1ba3bf14248>],\n",
       " 'boxes': [<matplotlib.lines.Line2D at 0x1ba442dd308>],\n",
       " 'medians': [<matplotlib.lines.Line2D at 0x1ba3bf0da48>],\n",
       " 'fliers': [<matplotlib.lines.Line2D at 0x1ba3befef88>],\n",
       " 'means': []}"
      ]
     },
     "execution_count": 76,
     "metadata": {},
     "output_type": "execute_result"
    },
    {
     "data": {
      "image/png": "[encoded data removed]",
      "text/plain": [
       "<Figure size 432x288 with 2 Axes>"
      ]
     },
     "metadata": {
      "needs_background": "light"
     },
     "output_type": "display_data"
    }
   ],
   "source": [
    "## These rough visualizations have been done for the time being which will be improved later.\n",
    "plt.subplot(121)\n",
    "plt.hist(data['PM'])\n",
    "plt.ylabel('Frequency', fontsize = 12)\n",
    "plt.xlabel(\"Concentration of PM2.5 (\\u03BCg/m\\u00b3)\",fontsize = 12)\n",
    "plt.title('Histogram of PM2.5 concentration',fontsize = 15)\n",
    "plt.subplot(122)\n",
    "plt.boxplot(data['PM'])"
   ]
  },
  {
   "cell_type": "markdown",
   "metadata": {},
   "source": [
    "#### Let us create box plots of the variables to detect the presence of an outlier"
   ]
  },
  {
   "cell_type": "code",
   "execution_count": 77,
   "metadata": {},
   "outputs": [],
   "source": [
    "## Draw the boxplots of the predictors in a panel"
   ]
  },
  {
   "cell_type": "code",
   "execution_count": 78,
   "metadata": {},
   "outputs": [
    {
     "name": "stdout",
     "output_type": "stream",
     "text": [
      "0\n",
      "1\n",
      "2\n",
      "3\n",
      "4\n"
     ]
    }
   ],
   "source": [
    "for i in  range(5):\n",
    "    print (i)"
   ]
  },
  {
   "cell_type": "code",
   "execution_count": 85,
   "metadata": {},
   "outputs": [
    {
     "data": {
      "text/plain": [
       "460"
      ]
     },
     "execution_count": 85,
     "metadata": {},
     "output_type": "execute_result"
    }
   ],
   "source": [
    "y2_train[y2_train == 0].count()"
   ]
  },
  {
   "cell_type": "code",
   "execution_count": 80,
   "metadata": {},
   "outputs": [
    {
     "data": {
      "text/plain": [
       "1301"
      ]
     },
     "execution_count": 80,
     "metadata": {},
     "output_type": "execute_result"
    }
   ],
   "source": [
    "y2_train.count()"
   ]
  },
  {
   "cell_type": "code",
   "execution_count": 81,
   "metadata": {},
   "outputs": [
    {
     "data": {
      "text/plain": [
       "841"
      ]
     },
     "execution_count": 81,
     "metadata": {},
     "output_type": "execute_result"
    }
   ],
   "source": [
    "y2_train[y2_train == 1].count()"
   ]
  },
  {
   "cell_type": "code",
   "execution_count": 82,
   "metadata": {},
   "outputs": [
    {
     "name": "stdout",
     "output_type": "stream",
     "text": [
      " μ\n"
     ]
    }
   ],
   "source": [
    "print(' \\u03BC')"
   ]
  },
  {
   "cell_type": "code",
   "execution_count": 83,
   "metadata": {},
   "outputs": [
    {
     "data": {
      "text/plain": [
       "326"
      ]
     },
     "execution_count": 83,
     "metadata": {},
     "output_type": "execute_result"
    }
   ],
   "source": [
    "y2_test.count()"
   ]
  },
  {
   "cell_type": "code",
   "execution_count": 84,
   "metadata": {},
   "outputs": [
    {
     "data": {
      "text/plain": [
       "211"
      ]
     },
     "execution_count": 84,
     "metadata": {},
     "output_type": "execute_result"
    }
   ],
   "source": [
    "y2_test[y2_test == 1].count()"
   ]
  },
  {
   "cell_type": "code",
   "execution_count": 86,
   "metadata": {},
   "outputs": [
    {
     "data": {
      "text/plain": [
       "115"
      ]
     },
     "execution_count": 86,
     "metadata": {},
     "output_type": "execute_result"
    }
   ],
   "source": [
    "y2_test[y2_test == 0].count()"
   ]
  },
  {
   "cell_type": "code",
   "execution_count": null,
   "metadata": {},
   "outputs": [],
   "source": []
  },
  {
   "cell_type": "code",
   "execution_count": null,
   "metadata": {},
   "outputs": [],
   "source": []
  },
  {
   "cell_type": "code",
   "execution_count": null,
   "metadata": {},
   "outputs": [],
   "source": []
  },
  {
   "cell_type": "code",
   "execution_count": null,
   "metadata": {},
   "outputs": [],
   "source": []
  },
  {
   "cell_type": "code",
   "execution_count": null,
   "metadata": {},
   "outputs": [],
   "source": []
  }
 ],
 "metadata": {
  "kernelspec": {
   "display_name": "Python 3",
   "language": "python",
   "name": "python3"
  },
  "language_info": {
   "codemirror_mode": {
    "name": "ipython",
    "version": 3
   },
   "file_extension": ".py",
   "mimetype": "text/x-python",
   "name": "python",
   "nbconvert_exporter": "python",
   "pygments_lexer": "ipython3",
   "version": "3.7.6"
  }
 },
 "nbformat": 4,
 "nbformat_minor": 4
}
